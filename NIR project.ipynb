{
 "cells": [
  {
   "attachments": {},
   "cell_type": "markdown",
   "metadata": {},
   "source": [
    "PROJECT NEURAL INFORMATION RETRIEVAL"
   ]
  },
  {
   "attachments": {},
   "cell_type": "markdown",
   "metadata": {},
   "source": [
    "Packages"
   ]
  },
  {
   "cell_type": "code",
   "execution_count": 1,
   "metadata": {},
   "outputs": [
    {
     "name": "stderr",
     "output_type": "stream",
     "text": [
      "PyTerrier 0.9.2 has loaded Terrier 5.7 (built by craigm on 2022-11-10 18:30) and terrier-helper 0.0.7\n",
      "\n"
     ]
    }
   ],
   "source": [
    "# Top-level imports\n",
    "import numpy as np\n",
    "import pandas as pd\n",
    "import pyterrier_doc2query\n",
    "import gzip\n",
    "# Activate PyTerrier\n",
    "import pyterrier as pt\n",
    "if not pt.started():\n",
    "    pt.init(boot_packages=[\"com.github.terrierteam:terrier-prf:-SNAPSHOT\"])  # Initialisation package for RM3"
   ]
  },
  {
   "cell_type": "code",
   "execution_count": null,
   "metadata": {},
   "outputs": [],
   "source": [
    "np.random.seed(68)"
   ]
  },
  {
   "attachments": {},
   "cell_type": "markdown",
   "metadata": {},
   "source": [
    "Dataset and indexing"
   ]
  },
  {
   "cell_type": "code",
   "execution_count": 8,
   "metadata": {},
   "outputs": [],
   "source": [
    "data = pt.get_dataset('msmarco_document')\n",
    "# #full index\n",
    "# indexer_tot = pt.TRECCollectionIndexer(r\"C:\\Users\\giorg\\Desktop\\Project\\full_index\", verbose=True,\n",
    "#                                        stemmer = 'none', stopwords = 'none')\n",
    "#stopword removed index\n",
    "#indexer_stop = pt.TRECCollectionIndexer(r\"C:\\Users\\giorg\\Desktop\\Project\\no_stop\", verbose=True,\n",
    "#                                          stopwords = 'terrier',stemmer = 'none',overwrite = True)\n",
    "# #stemming index\n",
    "#indexer_stem = pt.TRECCollectionIndexer(r\"C:\\Users\\giorg\\Desktop\\Project\\stem\", verbose=True,\n",
    "#                                          stemmer = 'porter',stopwords = 'none',overwrite = True)\n",
    "# #stopword removed and stemming index\n",
    "# indexer_stem_stop = pt.TRECCollectionIndexer(r\"C:\\Users\\giorg\\Desktop\\Project\\stem_no_stop\", verbose=True,\n",
    "#                                               stemmer = 'porter',stopwords = 'terrier')"
   ]
  },
  {
   "cell_type": "code",
   "execution_count": 4,
   "metadata": {},
   "outputs": [],
   "source": [
    "# #full_index\n",
    "# indexref = indexer_tot.index(data.get_corpus())"
   ]
  },
  {
   "cell_type": "code",
   "execution_count": 5,
   "metadata": {},
   "outputs": [
    {
     "name": "stderr",
     "output_type": "stream",
     "text": [
      "2files [1:45:51, 3175.95s/files]        \n"
     ]
    }
   ],
   "source": [
    "# #stopword removed index\n",
    "#indexref_stop = indexer_stop.index(data.get_corpus())"
   ]
  },
  {
   "cell_type": "code",
   "execution_count": 23,
   "metadata": {},
   "outputs": [
    {
     "name": "stderr",
     "output_type": "stream",
     "text": [
      "C:\\Users\\giorg\\AppData\\Local\\Temp\\ipykernel_10048\\2226939380.py:2: DeprecationWarning: Setting of termpipelines property directly is deprecated\n",
      "  indexref_stem = indexer_stem.index(data.get_corpus())\n",
      "C:\\Users\\giorg\\AppData\\Local\\Temp\\ipykernel_10048\\2226939380.py:2: DeprecationWarning: Setting of tokeniser property directly is deprecated\n",
      "  indexref_stem = indexer_stem.index(data.get_corpus())\n",
      "2files [2:21:23, 4241.98s/files]        \n"
     ]
    }
   ],
   "source": [
    "# #stemming index\n",
    "#indexref_stem = indexer_stem.index(data.get_corpus())"
   ]
  },
  {
   "cell_type": "code",
   "execution_count": null,
   "metadata": {},
   "outputs": [],
   "source": [
    "# indexer_stem_stop = pt.TRECCollectionIndexer(r\"C:\\Users\\giorg\\Desktop\\Project\\stem_no_stop\", verbose=True,\n",
    "#                                                stemmer = 'porter',stopwords = 'terrier')\n",
    "# indexref_stem_stop = indexer_stem_stop.index(data.get_corpus())"
   ]
  },
  {
   "cell_type": "code",
   "execution_count": 7,
   "metadata": {},
   "outputs": [],
   "source": [
    "# #stopword removed and stemming index\n",
    "# indexref_stem_stop = indexer_stem_stop.index(data.get_corpus())"
   ]
  },
  {
   "cell_type": "code",
   "execution_count": 9,
   "metadata": {},
   "outputs": [],
   "source": [
    "#collection of indexes\n",
    "index_full = pt.IndexFactory.of(r\"C:\\Users\\giorg\\Desktop\\Project\\full_index\")\n",
    "index_stop = pt.IndexFactory.of(r\"C:\\Users\\giorg\\Desktop\\Project\\no_stop\")\n",
    "index_stem = pt.IndexFactory.of(r\"C:\\Users\\giorg\\Desktop\\Project\\stem\")\n",
    "index_stem_stop = pt.IndexFactory.of(r\"C:\\Users\\giorg\\Desktop\\Project\\stem_no_stop\")"
   ]
  },
  {
   "cell_type": "code",
   "execution_count": 10,
   "metadata": {},
   "outputs": [
    {
     "data": {
      "text/html": [
       "<div>\n",
       "<style scoped>\n",
       "    .dataframe tbody tr th:only-of-type {\n",
       "        vertical-align: middle;\n",
       "    }\n",
       "\n",
       "    .dataframe tbody tr th {\n",
       "        vertical-align: top;\n",
       "    }\n",
       "\n",
       "    .dataframe thead th {\n",
       "        text-align: right;\n",
       "    }\n",
       "</style>\n",
       "<table border=\"1\" class=\"dataframe\">\n",
       "  <thead>\n",
       "    <tr style=\"text-align: right;\">\n",
       "      <th></th>\n",
       "      <th>qid</th>\n",
       "      <th>query</th>\n",
       "    </tr>\n",
       "  </thead>\n",
       "  <tbody>\n",
       "    <tr>\n",
       "      <th>366993</th>\n",
       "      <td>266116</td>\n",
       "      <td>how long potty train puppy</td>\n",
       "    </tr>\n",
       "    <tr>\n",
       "      <th>366994</th>\n",
       "      <td>1164804</td>\n",
       "      <td>what causes dogs eyes to run</td>\n",
       "    </tr>\n",
       "    <tr>\n",
       "      <th>366995</th>\n",
       "      <td>714053</td>\n",
       "      <td>what is an ethical interpretation</td>\n",
       "    </tr>\n",
       "    <tr>\n",
       "      <th>366996</th>\n",
       "      <td>673394</td>\n",
       "      <td>what is a mao inhibitor</td>\n",
       "    </tr>\n",
       "    <tr>\n",
       "      <th>366997</th>\n",
       "      <td>496447</td>\n",
       "      <td>should i fast before a liver blood test</td>\n",
       "    </tr>\n",
       "    <tr>\n",
       "      <th>366998</th>\n",
       "      <td>474267</td>\n",
       "      <td>pharmacist salary in oregon</td>\n",
       "    </tr>\n",
       "    <tr>\n",
       "      <th>366999</th>\n",
       "      <td>676978</td>\n",
       "      <td>what is a chain of custody mag</td>\n",
       "    </tr>\n",
       "    <tr>\n",
       "      <th>367000</th>\n",
       "      <td>721793</td>\n",
       "      <td>what is b17</td>\n",
       "    </tr>\n",
       "    <tr>\n",
       "      <th>367001</th>\n",
       "      <td>1164803</td>\n",
       "      <td>what causes dropped frames</td>\n",
       "    </tr>\n",
       "    <tr>\n",
       "      <th>367002</th>\n",
       "      <td>462670</td>\n",
       "      <td>natural remedies for grover s disease</td>\n",
       "    </tr>\n",
       "    <tr>\n",
       "      <th>367003</th>\n",
       "      <td>234427</td>\n",
       "      <td>how fast should a power chair go</td>\n",
       "    </tr>\n",
       "    <tr>\n",
       "      <th>367004</th>\n",
       "      <td>285891</td>\n",
       "      <td>how many hours do you need for an aa</td>\n",
       "    </tr>\n",
       "    <tr>\n",
       "      <th>367005</th>\n",
       "      <td>1164802</td>\n",
       "      <td>what causes dry cough</td>\n",
       "    </tr>\n",
       "    <tr>\n",
       "      <th>367006</th>\n",
       "      <td>87046</td>\n",
       "      <td>causes of irritated mouth tissue</td>\n",
       "    </tr>\n",
       "    <tr>\n",
       "      <th>367007</th>\n",
       "      <td>562255</td>\n",
       "      <td>what are nephridia</td>\n",
       "    </tr>\n",
       "    <tr>\n",
       "      <th>367008</th>\n",
       "      <td>19285</td>\n",
       "      <td>anterolisthesis definition</td>\n",
       "    </tr>\n",
       "    <tr>\n",
       "      <th>367009</th>\n",
       "      <td>558837</td>\n",
       "      <td>what are fishing flies</td>\n",
       "    </tr>\n",
       "    <tr>\n",
       "      <th>367010</th>\n",
       "      <td>559149</td>\n",
       "      <td>what are fsh levels during perimenopause</td>\n",
       "    </tr>\n",
       "    <tr>\n",
       "      <th>367011</th>\n",
       "      <td>706678</td>\n",
       "      <td>what is a yowie</td>\n",
       "    </tr>\n",
       "    <tr>\n",
       "      <th>367012</th>\n",
       "      <td>405466</td>\n",
       "      <td>is carbonic acid soluble</td>\n",
       "    </tr>\n",
       "  </tbody>\n",
       "</table>\n",
       "</div>"
      ],
      "text/plain": [
       "            qid                                     query\n",
       "366993   266116                how long potty train puppy\n",
       "366994  1164804              what causes dogs eyes to run\n",
       "366995   714053         what is an ethical interpretation\n",
       "366996   673394                   what is a mao inhibitor\n",
       "366997   496447   should i fast before a liver blood test\n",
       "366998   474267               pharmacist salary in oregon\n",
       "366999   676978            what is a chain of custody mag\n",
       "367000   721793                               what is b17\n",
       "367001  1164803                what causes dropped frames\n",
       "367002   462670     natural remedies for grover s disease\n",
       "367003   234427          how fast should a power chair go\n",
       "367004   285891      how many hours do you need for an aa\n",
       "367005  1164802                     what causes dry cough\n",
       "367006    87046          causes of irritated mouth tissue\n",
       "367007   562255                        what are nephridia\n",
       "367008    19285                anterolisthesis definition\n",
       "367009   558837                    what are fishing flies\n",
       "367010   559149  what are fsh levels during perimenopause\n",
       "367011   706678                           what is a yowie\n",
       "367012   405466                  is carbonic acid soluble"
      ]
     },
     "execution_count": 10,
     "metadata": {},
     "output_type": "execute_result"
    }
   ],
   "source": [
    "#get topics\n",
    "queries = data.get_topics(variant = 'train')\n",
    "queries['qid'] = queries['qid'].astype(int)\n",
    "queries.tail(20)"
   ]
  },
  {
   "cell_type": "code",
   "execution_count": 11,
   "metadata": {},
   "outputs": [
    {
     "data": {
      "text/html": [
       "<div>\n",
       "<style scoped>\n",
       "    .dataframe tbody tr th:only-of-type {\n",
       "        vertical-align: middle;\n",
       "    }\n",
       "\n",
       "    .dataframe tbody tr th {\n",
       "        vertical-align: top;\n",
       "    }\n",
       "\n",
       "    .dataframe thead th {\n",
       "        text-align: right;\n",
       "    }\n",
       "</style>\n",
       "<table border=\"1\" class=\"dataframe\">\n",
       "  <thead>\n",
       "    <tr style=\"text-align: right;\">\n",
       "      <th></th>\n",
       "      <th>qid</th>\n",
       "      <th>docno</th>\n",
       "      <th>label</th>\n",
       "    </tr>\n",
       "  </thead>\n",
       "  <tbody>\n",
       "    <tr>\n",
       "      <th>0</th>\n",
       "      <td>3</td>\n",
       "      <td>D312959</td>\n",
       "      <td>1</td>\n",
       "    </tr>\n",
       "    <tr>\n",
       "      <th>1</th>\n",
       "      <td>5</td>\n",
       "      <td>D140227</td>\n",
       "      <td>1</td>\n",
       "    </tr>\n",
       "    <tr>\n",
       "      <th>2</th>\n",
       "      <td>12</td>\n",
       "      <td>D213890</td>\n",
       "      <td>1</td>\n",
       "    </tr>\n",
       "    <tr>\n",
       "      <th>3</th>\n",
       "      <td>15</td>\n",
       "      <td>D1033338</td>\n",
       "      <td>1</td>\n",
       "    </tr>\n",
       "    <tr>\n",
       "      <th>4</th>\n",
       "      <td>16</td>\n",
       "      <td>D508131</td>\n",
       "      <td>1</td>\n",
       "    </tr>\n",
       "  </tbody>\n",
       "</table>\n",
       "</div>"
      ],
      "text/plain": [
       "  qid     docno  label\n",
       "0   3   D312959      1\n",
       "1   5   D140227      1\n",
       "2  12   D213890      1\n",
       "3  15  D1033338      1\n",
       "4  16   D508131      1"
      ]
     },
     "execution_count": 11,
     "metadata": {},
     "output_type": "execute_result"
    }
   ],
   "source": [
    "qrels = data.get_qrels(variant='train')\n",
    "qrels.head(5)"
   ]
  },
  {
   "cell_type": "code",
   "execution_count": 12,
   "metadata": {},
   "outputs": [],
   "source": [
    "q_sample = pd.read_csv(r\"C:\\Users\\giorg\\Desktop\\Project\\msmarco-doctrain-queries-sample-qid.tsv\",header=None, names=['qid'])\n",
    "q_sample['qid'] = q_sample['qid'].astype(int)"
   ]
  },
  {
   "attachments": {},
   "cell_type": "markdown",
   "metadata": {},
   "source": [
    "Statistics"
   ]
  },
  {
   "cell_type": "code",
   "execution_count": 12,
   "metadata": {},
   "outputs": [
    {
     "name": "stdout",
     "output_type": "stream",
     "text": [
      "Number of documents: 3213835\n",
      "Number of terms: 17470544\n",
      "Number of postings: 1234274977\n",
      "Number of fields: 0\n",
      "Number of tokens: 3667907097\n",
      "Field names: []\n",
      "Positions:   false\n",
      "\n"
     ]
    }
   ],
   "source": [
    "print(index_full.getCollectionStatistics().toString())"
   ]
  },
  {
   "cell_type": "code",
   "execution_count": 13,
   "metadata": {},
   "outputs": [
    {
     "name": "stdout",
     "output_type": "stream",
     "text": [
      "count    367013.000000\n",
      "mean         33.004591\n",
      "std          12.862694\n",
      "min           5.000000\n",
      "25%          24.000000\n",
      "50%          31.000000\n",
      "75%          39.000000\n",
      "max         214.000000\n",
      "Name: queries_len, dtype: float64\n"
     ]
    },
    {
     "data": {
      "text/plain": [
       "<AxesSubplot:title={'center':'Queries length distribution'}, ylabel='Frequency'>"
      ]
     },
     "execution_count": 13,
     "metadata": {},
     "output_type": "execute_result"
    },
    {
     "data": {
      "image/png": "[encoded data removed]",
      "text/plain": [
       "<Figure size 864x432 with 1 Axes>"
      ]
     },
     "metadata": {
      "needs_background": "light"
     },
     "output_type": "display_data"
    }
   ],
   "source": [
    "#retrieve queries statistics and plot\n",
    "queries['queries_len'] = queries['query'].map(len)\n",
    "print(queries['queries_len'].describe())\n",
    "queries['queries_len'].plot(kind='hist', bins=100, figsize=(12,6), title='Queries length distribution')\n"
   ]
  },
  {
   "cell_type": "code",
   "execution_count": 63,
   "metadata": {},
   "outputs": [
    {
     "data": {
      "text/html": [
       "<div>\n",
       "<style scoped>\n",
       "    .dataframe tbody tr th:only-of-type {\n",
       "        vertical-align: middle;\n",
       "    }\n",
       "\n",
       "    .dataframe tbody tr th {\n",
       "        vertical-align: top;\n",
       "    }\n",
       "\n",
       "    .dataframe thead th {\n",
       "        text-align: right;\n",
       "    }\n",
       "</style>\n",
       "<table border=\"1\" class=\"dataframe\">\n",
       "  <thead>\n",
       "    <tr style=\"text-align: right;\">\n",
       "      <th></th>\n",
       "      <th>qid</th>\n",
       "      <th>query</th>\n",
       "    </tr>\n",
       "  </thead>\n",
       "  <tbody>\n",
       "    <tr>\n",
       "      <th>224</th>\n",
       "      <td>724592</td>\n",
       "      <td>what is blains</td>\n",
       "    </tr>\n",
       "    <tr>\n",
       "      <th>230</th>\n",
       "      <td>754337</td>\n",
       "      <td>what is hecate</td>\n",
       "    </tr>\n",
       "    <tr>\n",
       "      <th>248</th>\n",
       "      <td>412886</td>\n",
       "      <td>is ilovemakonnen ovo</td>\n",
       "    </tr>\n",
       "    <tr>\n",
       "      <th>361</th>\n",
       "      <td>736493</td>\n",
       "      <td>what is cubicin antibiotic for</td>\n",
       "    </tr>\n",
       "    <tr>\n",
       "      <th>428</th>\n",
       "      <td>681529</td>\n",
       "      <td>what is a disease that affects the legs</td>\n",
       "    </tr>\n",
       "    <tr>\n",
       "      <th>...</th>\n",
       "      <td>...</td>\n",
       "      <td>...</td>\n",
       "    </tr>\n",
       "    <tr>\n",
       "      <th>366797</th>\n",
       "      <td>604057</td>\n",
       "      <td>what county is cedar michigan in</td>\n",
       "    </tr>\n",
       "    <tr>\n",
       "      <th>366818</th>\n",
       "      <td>553634</td>\n",
       "      <td>what animal eats bamboo shoot</td>\n",
       "    </tr>\n",
       "    <tr>\n",
       "      <th>366892</th>\n",
       "      <td>617635</td>\n",
       "      <td>what degree do you need to work at a zoo</td>\n",
       "    </tr>\n",
       "    <tr>\n",
       "      <th>366971</th>\n",
       "      <td>479282</td>\n",
       "      <td>pre ejaculatory fluid definition</td>\n",
       "    </tr>\n",
       "    <tr>\n",
       "      <th>367011</th>\n",
       "      <td>706678</td>\n",
       "      <td>what is a yowie</td>\n",
       "    </tr>\n",
       "  </tbody>\n",
       "</table>\n",
       "<p>5000 rows × 2 columns</p>\n",
       "</div>"
      ],
      "text/plain": [
       "           qid                                     query\n",
       "224     724592                            what is blains\n",
       "230     754337                            what is hecate\n",
       "248     412886                      is ilovemakonnen ovo\n",
       "361     736493            what is cubicin antibiotic for\n",
       "428     681529   what is a disease that affects the legs\n",
       "...        ...                                       ...\n",
       "366797  604057          what county is cedar michigan in\n",
       "366818  553634             what animal eats bamboo shoot\n",
       "366892  617635  what degree do you need to work at a zoo\n",
       "366971  479282          pre ejaculatory fluid definition\n",
       "367011  706678                           what is a yowie\n",
       "\n",
       "[5000 rows x 2 columns]"
      ]
     },
     "execution_count": 63,
     "metadata": {},
     "output_type": "execute_result"
    }
   ],
   "source": [
    "#sample queries with id = q_sample\n",
    "queries = queries[queries['qid'].isin(q_sample['qid'])]\n",
    "#transofrm qid to string\n",
    "queries['qid'] = queries['qid'].map(str)\n",
    "queries"
   ]
  },
  {
   "cell_type": "code",
   "execution_count": 64,
   "metadata": {},
   "outputs": [
    {
     "name": "stdout",
     "output_type": "stream",
     "text": [
      "Number of documents: 3213835\n",
      "Number of terms: 17470544\n",
      "Number of postings: 1234274977\n",
      "Number of fields: 0\n",
      "Number of tokens: 3667907097\n",
      "Field names: []\n",
      "Positions:   false\n",
      "\n"
     ]
    }
   ],
   "source": [
    "print(index_full.getCollectionStatistics().toString())"
   ]
  },
  {
   "cell_type": "code",
   "execution_count": 65,
   "metadata": {},
   "outputs": [
    {
     "name": "stdout",
     "output_type": "stream",
     "text": [
      "count    5000.000000\n",
      "mean       32.837200\n",
      "std        12.701565\n",
      "min         8.000000\n",
      "25%        24.000000\n",
      "50%        31.000000\n",
      "75%        39.000000\n",
      "max       189.000000\n",
      "Name: queries_len, dtype: float64\n"
     ]
    },
    {
     "data": {
      "text/plain": [
       "<AxesSubplot:title={'center':'Queries length distribution'}, ylabel='Frequency'>"
      ]
     },
     "execution_count": 65,
     "metadata": {},
     "output_type": "execute_result"
    },
    {
     "data": {
      "image/png": "[encoded data removed]",
      "text/plain": [
       "<Figure size 864x432 with 1 Axes>"
      ]
     },
     "metadata": {
      "needs_background": "light"
     },
     "output_type": "display_data"
    }
   ],
   "source": [
    "#retrieve queries statistics and plot\n",
    "queries['queries_len'] = queries['query'].map(len)\n",
    "print(queries['queries_len'].describe())\n",
    "queries['queries_len'].plot(kind='hist', bins=100, figsize=(12,6), title='Queries length distribution')"
   ]
  },
  {
   "cell_type": "code",
   "execution_count": 8,
   "metadata": {},
   "outputs": [
    {
     "name": "stdout",
     "output_type": "stream",
     "text": [
      "3213835\n"
     ]
    }
   ],
   "source": [
    "#retrieve documents stat\n",
    "num_doc = index_full.getCollectionStatistics().getNumberOfDocuments()\n",
    "print(num_doc)\n",
    "doc_len=[]\n",
    "for i in range(num_doc):\n",
    "    doc = index_full.getDocumentIndex().getDocumentLength(i)\n",
    "    doc_len.append(doc)\n",
    "tot = sum(doc_len)"
   ]
  },
  {
   "cell_type": "code",
   "execution_count": 15,
   "metadata": {},
   "outputs": [
    {
     "name": "stdout",
     "output_type": "stream",
     "text": [
      "total number of documents = 3213835\n",
      "mean = 1141.2866861553252\n",
      "median = 598.0\n",
      "min =  2\n",
      "max =  319457\n"
     ]
    },
    {
     "data": {
      "text/plain": [
       "<AxesSubplot:ylabel='Frequency'>"
      ]
     },
     "execution_count": 15,
     "metadata": {},
     "output_type": "execute_result"
    },
    {
     "data": {
      "image/png": "[encoded data removed]",
      "text/plain": [
       "<Figure size 432x288 with 1 Axes>"
      ]
     },
     "metadata": {
      "needs_background": "light"
     },
     "output_type": "display_data"
    }
   ],
   "source": [
    "#print statistics and plots\n",
    "print('total number of documents =', num_doc)\n",
    "print('mean =',  tot/num_doc)\n",
    "print('median =', pd.Series(doc_len).median())\n",
    "print('min = ', pd.Series(doc_len).min())\n",
    "print('max = ', pd.Series(doc_len).max())\n",
    "pd.Series(doc_len).plot(kind='hist', bins=100)"
   ]
  },
  {
   "cell_type": "code",
   "execution_count": 16,
   "metadata": {},
   "outputs": [
    {
     "name": "stdout",
     "output_type": "stream",
     "text": [
      "3213835\n"
     ]
    }
   ],
   "source": [
    "num_doc_stop = index_stop.getCollectionStatistics().getNumberOfDocuments()\n",
    "print(num_doc_stop)"
   ]
  },
  {
   "cell_type": "code",
   "execution_count": 17,
   "metadata": {},
   "outputs": [
    {
     "name": "stdout",
     "output_type": "stream",
     "text": [
      "3213835\n"
     ]
    }
   ],
   "source": [
    "num_doc_stem = index_stem.getCollectionStatistics().getNumberOfDocuments()\n",
    "print(num_doc_stem)"
   ]
  },
  {
   "cell_type": "code",
   "execution_count": 18,
   "metadata": {},
   "outputs": [
    {
     "name": "stdout",
     "output_type": "stream",
     "text": [
      "3213835\n"
     ]
    }
   ],
   "source": [
    "num_doc_stem_stop = index_stem_stop.getCollectionStatistics().getNumberOfDocuments()\n",
    "print(num_doc_stem_stop)"
   ]
  },
  {
   "cell_type": "code",
   "execution_count": 19,
   "metadata": {},
   "outputs": [
    {
     "name": "stdout",
     "output_type": "stream",
     "text": [
      "17470544\n",
      "17469900\n",
      "16168189\n",
      "16168096\n"
     ]
    }
   ],
   "source": [
    "#retrieve number of unique terms per index\n",
    "print(index_full.getCollectionStatistics().getNumberOfUniqueTerms())\n",
    "print(index_stop.getCollectionStatistics().getNumberOfUniqueTerms())\n",
    "print(index_stem.getCollectionStatistics().getNumberOfUniqueTerms())\n",
    "print(index_stem_stop.getCollectionStatistics().getNumberOfUniqueTerms())"
   ]
  },
  {
   "cell_type": "code",
   "execution_count": 20,
   "metadata": {},
   "outputs": [
    {
     "name": "stdout",
     "output_type": "stream",
     "text": [
      "3667907097\n",
      "2204592607\n",
      "3667907097\n",
      "2204592607\n"
     ]
    }
   ],
   "source": [
    "#retrieve total number of terms per index\n",
    "print(index_full.getCollectionStatistics().getNumberOfTokens())\n",
    "print(index_stop.getCollectionStatistics().getNumberOfTokens())\n",
    "print(index_stem.getCollectionStatistics().getNumberOfTokens())\n",
    "print(index_stem_stop.getCollectionStatistics().getNumberOfTokens())"
   ]
  },
  {
   "cell_type": "code",
   "execution_count": 21,
   "metadata": {},
   "outputs": [
    {
     "data": {
      "text/plain": [
       "<AxesSubplot:ylabel='Frequency'>"
      ]
     },
     "execution_count": 21,
     "metadata": {},
     "output_type": "execute_result"
    },
    {
     "data": {
      "image/png": "[encoded data removed]",
      "text/plain": [
       "<Figure size 432x288 with 1 Axes>"
      ]
     },
     "metadata": {
      "needs_background": "light"
     },
     "output_type": "display_data"
    }
   ],
   "source": [
    "pd.Series(doc_len).plot(kind='hist', bins=100, logy=True)"
   ]
  },
  {
   "cell_type": "code",
   "execution_count": 22,
   "metadata": {},
   "outputs": [
    {
     "data": {
      "text/plain": [
       "<AxesSubplot:ylabel='Frequency'>"
      ]
     },
     "execution_count": 22,
     "metadata": {},
     "output_type": "execute_result"
    },
    {
     "data": {
      "image/png": "[encoded data removed]",
      "text/plain": [
       "<Figure size 432x288 with 1 Axes>"
      ]
     },
     "metadata": {
      "needs_background": "light"
     },
     "output_type": "display_data"
    }
   ],
   "source": [
    "pd.Series(doc_len).plot(kind='hist', bins=100, range=(0,20000))"
   ]
  },
  {
   "cell_type": "code",
   "execution_count": 13,
   "metadata": {},
   "outputs": [
    {
     "data": {
      "text/html": [
       "<div>\n",
       "<style scoped>\n",
       "    .dataframe tbody tr th:only-of-type {\n",
       "        vertical-align: middle;\n",
       "    }\n",
       "\n",
       "    .dataframe tbody tr th {\n",
       "        vertical-align: top;\n",
       "    }\n",
       "\n",
       "    .dataframe thead th {\n",
       "        text-align: right;\n",
       "    }\n",
       "</style>\n",
       "<table border=\"1\" class=\"dataframe\">\n",
       "  <thead>\n",
       "    <tr style=\"text-align: right;\">\n",
       "      <th></th>\n",
       "      <th>qid</th>\n",
       "      <th>query</th>\n",
       "    </tr>\n",
       "  </thead>\n",
       "  <tbody>\n",
       "    <tr>\n",
       "      <th>224</th>\n",
       "      <td>724592</td>\n",
       "      <td>what is blains</td>\n",
       "    </tr>\n",
       "    <tr>\n",
       "      <th>230</th>\n",
       "      <td>754337</td>\n",
       "      <td>what is hecate</td>\n",
       "    </tr>\n",
       "    <tr>\n",
       "      <th>248</th>\n",
       "      <td>412886</td>\n",
       "      <td>is ilovemakonnen ovo</td>\n",
       "    </tr>\n",
       "    <tr>\n",
       "      <th>361</th>\n",
       "      <td>736493</td>\n",
       "      <td>what is cubicin antibiotic for</td>\n",
       "    </tr>\n",
       "    <tr>\n",
       "      <th>428</th>\n",
       "      <td>681529</td>\n",
       "      <td>what is a disease that affects the legs</td>\n",
       "    </tr>\n",
       "    <tr>\n",
       "      <th>...</th>\n",
       "      <td>...</td>\n",
       "      <td>...</td>\n",
       "    </tr>\n",
       "    <tr>\n",
       "      <th>366797</th>\n",
       "      <td>604057</td>\n",
       "      <td>what county is cedar michigan in</td>\n",
       "    </tr>\n",
       "    <tr>\n",
       "      <th>366818</th>\n",
       "      <td>553634</td>\n",
       "      <td>what animal eats bamboo shoot</td>\n",
       "    </tr>\n",
       "    <tr>\n",
       "      <th>366892</th>\n",
       "      <td>617635</td>\n",
       "      <td>what degree do you need to work at a zoo</td>\n",
       "    </tr>\n",
       "    <tr>\n",
       "      <th>366971</th>\n",
       "      <td>479282</td>\n",
       "      <td>pre ejaculatory fluid definition</td>\n",
       "    </tr>\n",
       "    <tr>\n",
       "      <th>367011</th>\n",
       "      <td>706678</td>\n",
       "      <td>what is a yowie</td>\n",
       "    </tr>\n",
       "  </tbody>\n",
       "</table>\n",
       "<p>5000 rows × 2 columns</p>\n",
       "</div>"
      ],
      "text/plain": [
       "           qid                                     query\n",
       "224     724592                            what is blains\n",
       "230     754337                            what is hecate\n",
       "248     412886                      is ilovemakonnen ovo\n",
       "361     736493            what is cubicin antibiotic for\n",
       "428     681529   what is a disease that affects the legs\n",
       "...        ...                                       ...\n",
       "366797  604057          what county is cedar michigan in\n",
       "366818  553634             what animal eats bamboo shoot\n",
       "366892  617635  what degree do you need to work at a zoo\n",
       "366971  479282          pre ejaculatory fluid definition\n",
       "367011  706678                           what is a yowie\n",
       "\n",
       "[5000 rows x 2 columns]"
      ]
     },
     "execution_count": 13,
     "metadata": {},
     "output_type": "execute_result"
    }
   ],
   "source": [
    "#sample queries with id = q_sample\n",
    "queries = queries[queries['qid'].isin(q_sample['qid'])]\n",
    "#transofrm qid to string\n",
    "queries['qid'] = queries['qid'].map(str)\n",
    "queries"
   ]
  },
  {
   "cell_type": "code",
   "execution_count": 10,
   "metadata": {},
   "outputs": [],
   "source": [
    "#taking random 0.05% of queries\n",
    "queries_test = queries.sample(frac=0.01, random_state=1)"
   ]
  },
  {
   "cell_type": "code",
   "execution_count": 11,
   "metadata": {},
   "outputs": [],
   "source": [
    "#batch retrieval\n",
    "bm25_full = pt.BatchRetrieve(index_full, wmodel=\"BM25\")\n",
    "bm25_stop = pt.BatchRetrieve(index_stop, wmodel=\"BM25\")\n",
    "bm25_stem = pt.BatchRetrieve(index_stem, wmodel=\"BM25\")\n",
    "bm25_stem_stop = pt.BatchRetrieve(index_stem_stop, wmodel=\"BM25\")"
   ]
  },
  {
   "cell_type": "code",
   "execution_count": 12,
   "metadata": {},
   "outputs": [
    {
     "data": {
      "text/plain": [
       "(50, 2)"
      ]
     },
     "execution_count": 12,
     "metadata": {},
     "output_type": "execute_result"
    }
   ],
   "source": [
    "#is queries id int or string?\n",
    "queries_test['qid'] = queries_test['qid'].map(str)\n",
    "queries_test.shape"
   ]
  },
  {
   "cell_type": "code",
   "execution_count": null,
   "metadata": {},
   "outputs": [],
   "source": [
    "#sample queries with id = q_sample\n",
    "queries = queries[queries['qid'].isin(q_sample['qid'])]\n",
    "#transofrm qid to string\n",
    "queries['qid'] = queries['qid'].map(str)\n",
    "queries"
   ]
  },
  {
   "cell_type": "code",
   "execution_count": 96,
   "metadata": {},
   "outputs": [],
   "source": [
    "BM25_full = pt.BatchRetrieve(index_stem_stop, wmodel=\"BM25\", controls={\"bm25.b\" : 0.75,\"bm25.k_1\": 0.5})\n",
    "LM_full = pt.BatchRetrieve(index_stem_stop, wmodel=\"DirichletLM\", controls={\"dirichletlm.mu\" : 1141})\n",
    "BM25_doc2 = pt.BatchRetrieve(index_doc2, wmodel=\"BM25\", controls={\"bm25.b\" : 0.75,\"bm25.k_1\": 0.5})\n",
    "LM_doc2 = pt.BatchRetrieve(index_doc2, wmodel=\"DirichletLM\", controls={\"dirichletlm.mu\" : 1141})"
   ]
  },
  {
   "cell_type": "code",
   "execution_count": 97,
   "metadata": {},
   "outputs": [
    {
     "name": "stderr",
     "output_type": "stream",
     "text": [
      "pt.Experiment: 100%|██████████| 8/8 [01:13<00:00,  9.15s/batches]\n"
     ]
    },
    {
     "data": {
      "text/html": [
       "<div>\n",
       "<style scoped>\n",
       "    .dataframe tbody tr th:only-of-type {\n",
       "        vertical-align: middle;\n",
       "    }\n",
       "\n",
       "    .dataframe tbody tr th {\n",
       "        vertical-align: top;\n",
       "    }\n",
       "\n",
       "    .dataframe thead th {\n",
       "        text-align: right;\n",
       "    }\n",
       "</style>\n",
       "<table border=\"1\" class=\"dataframe\">\n",
       "  <thead>\n",
       "    <tr style=\"text-align: right;\">\n",
       "      <th></th>\n",
       "      <th>name</th>\n",
       "      <th>map</th>\n",
       "      <th>mrt</th>\n",
       "    </tr>\n",
       "  </thead>\n",
       "  <tbody>\n",
       "    <tr>\n",
       "      <th>0</th>\n",
       "      <td>BR(BM25)</td>\n",
       "      <td>0.260386</td>\n",
       "      <td>170.943602</td>\n",
       "    </tr>\n",
       "    <tr>\n",
       "      <th>1</th>\n",
       "      <td>BR(DirichletLM)</td>\n",
       "      <td>0.258052</td>\n",
       "      <td>112.387806</td>\n",
       "    </tr>\n",
       "    <tr>\n",
       "      <th>2</th>\n",
       "      <td>BR(BM25)</td>\n",
       "      <td>0.260439</td>\n",
       "      <td>574.379036</td>\n",
       "    </tr>\n",
       "    <tr>\n",
       "      <th>3</th>\n",
       "      <td>BR(DirichletLM)</td>\n",
       "      <td>0.258264</td>\n",
       "      <td>591.258194</td>\n",
       "    </tr>\n",
       "  </tbody>\n",
       "</table>\n",
       "</div>"
      ],
      "text/plain": [
       "              name       map         mrt\n",
       "0         BR(BM25)  0.260386  170.943602\n",
       "1  BR(DirichletLM)  0.258052  112.387806\n",
       "2         BR(BM25)  0.260439  574.379036\n",
       "3  BR(DirichletLM)  0.258264  591.258194"
      ]
     },
     "execution_count": 97,
     "metadata": {},
     "output_type": "execute_result"
    }
   ],
   "source": [
    "#experiment\n",
    "pt.Experiment([BM25_full,LM_full, BM25_doc2,LM_doc2], queries_test, qrels,eval_metrics=['map','mrt'], batch_size= 32 ,verbose = True)"
   ]
  },
  {
   "cell_type": "code",
   "execution_count": 26,
   "metadata": {},
   "outputs": [
    {
     "name": "stderr",
     "output_type": "stream",
     "text": [
      "pt.Experiment: 100%|██████████| 8/8 [00:58<00:00,  7.37s/batches]\n"
     ]
    },
    {
     "data": {
      "text/html": [
       "<div>\n",
       "<style scoped>\n",
       "    .dataframe tbody tr th:only-of-type {\n",
       "        vertical-align: middle;\n",
       "    }\n",
       "\n",
       "    .dataframe tbody tr th {\n",
       "        vertical-align: top;\n",
       "    }\n",
       "\n",
       "    .dataframe thead th {\n",
       "        text-align: right;\n",
       "    }\n",
       "</style>\n",
       "<table border=\"1\" class=\"dataframe\">\n",
       "  <thead>\n",
       "    <tr style=\"text-align: right;\">\n",
       "      <th></th>\n",
       "      <th>name</th>\n",
       "      <th>map</th>\n",
       "      <th>mrt</th>\n",
       "    </tr>\n",
       "  </thead>\n",
       "  <tbody>\n",
       "    <tr>\n",
       "      <th>0</th>\n",
       "      <td>BR(BM25)</td>\n",
       "      <td>0.250612</td>\n",
       "      <td>503.929338</td>\n",
       "    </tr>\n",
       "    <tr>\n",
       "      <th>1</th>\n",
       "      <td>BR(BM25)</td>\n",
       "      <td>0.258941</td>\n",
       "      <td>73.663334</td>\n",
       "    </tr>\n",
       "    <tr>\n",
       "      <th>2</th>\n",
       "      <td>BR(BM25)</td>\n",
       "      <td>0.238214</td>\n",
       "      <td>502.269110</td>\n",
       "    </tr>\n",
       "    <tr>\n",
       "      <th>3</th>\n",
       "      <td>BR(BM25)</td>\n",
       "      <td>0.270294</td>\n",
       "      <td>90.790410</td>\n",
       "    </tr>\n",
       "  </tbody>\n",
       "</table>\n",
       "</div>"
      ],
      "text/plain": [
       "       name       map         mrt\n",
       "0  BR(BM25)  0.250612  503.929338\n",
       "1  BR(BM25)  0.258941   73.663334\n",
       "2  BR(BM25)  0.238214  502.269110\n",
       "3  BR(BM25)  0.270294   90.790410"
      ]
     },
     "execution_count": 26,
     "metadata": {},
     "output_type": "execute_result"
    }
   ],
   "source": [
    "#experiment\n",
    "pt.Experiment([bm25_full,bm25_stop,bm25_stem,bm25_stem_stop], queries_test, qrels,eval_metrics=['map','mrt'], batch_size= 32 ,verbose = True)"
   ]
  },
  {
   "attachments": {},
   "cell_type": "markdown",
   "metadata": {},
   "source": [
    "2 Ranking Models and Evaluation"
   ]
  },
  {
   "cell_type": "code",
   "execution_count": 14,
   "metadata": {},
   "outputs": [
    {
     "data": {
      "text/plain": [
       "2    1669\n",
       "1    1668\n",
       "0    1663\n",
       "Name: group, dtype: int64"
      ]
     },
     "execution_count": 14,
     "metadata": {},
     "output_type": "execute_result"
    }
   ],
   "source": [
    "#splitting queries in 3 groups with same lenght for cross validation\n",
    "queries['group'] = np.random.randint(0, 3, queries.shape[0])\n",
    "train_1 = queries[queries['group'] != 0]\n",
    "val_1 = queries[queries['group'] == 0]\n",
    "train_2 = queries[queries['group'] != 1]\n",
    "val_2 = queries[queries['group'] == 1]\n",
    "train_3 = queries[queries['group'] != 2]\n",
    "val_3 = queries[queries['group'] == 2]\n",
    "queries['group'].value_counts()"
   ]
  },
  {
   "cell_type": "code",
   "execution_count": 15,
   "metadata": {},
   "outputs": [],
   "source": [
    "metrics_list = ['recip_rank','ndcg_cut_10','P_5','P_10','P_20','recall_5','recall_10','recall_20','mrt']"
   ]
  },
  {
   "attachments": {},
   "cell_type": "markdown",
   "metadata": {},
   "source": [
    "Full Index"
   ]
  },
  {
   "cell_type": "code",
   "execution_count": 28,
   "metadata": {},
   "outputs": [],
   "source": [
    "BM25_full = pt.BatchRetrieve(index_full, wmodel=\"BM25\", controls={\"bm25.b\" : 0.75,\"bm25.k_1\": 0.5})\n",
    "LM_full = pt.BatchRetrieve(index_full, wmodel=\"DirichletLM\", controls={\"dirichletlm.mu\" : 1141})"
   ]
  },
  {
   "cell_type": "code",
   "execution_count": 66,
   "metadata": {},
   "outputs": [
    {
     "name": "stdout",
     "output_type": "stream",
     "text": [
      "Fold 1\n",
      "Best ndcg_cut_10 is 0.003108\n",
      "Best setting is ['BR(BM25) bm25.b=0.75', 'BR(BM25) bm25.k_1=1.5']\n",
      "Fold 2\n",
      "Best ndcg_cut_10 is 0.003108\n",
      "Best setting is ['BR(BM25) bm25.b=0.75', 'BR(BM25) bm25.k_1=1.5']\n",
      "Fold 3\n",
      "Best ndcg_cut_10 is 0.003108\n",
      "Best setting is ['BR(BM25) bm25.b=0.75', 'BR(BM25) bm25.k_1=1.5']\n"
     ]
    }
   ],
   "source": [
    "t_1_bm = pt.KFoldGridSearch(\n",
    "    BM25_full,\n",
    "    {BM25_full : {'bm25.b' : [0.25, 0.75],'bm25.k_1' : [0.5, 1.5]}},\n",
    "    [train_1, train_2, train_3],\n",
    "    qrels,\n",
    "    'ndcg_cut_10'\n",
    ")"
   ]
  },
  {
   "cell_type": "code",
   "execution_count": 70,
   "metadata": {},
   "outputs": [
    {
     "name": "stdout",
     "output_type": "stream",
     "text": [
      "Fold 1\n",
      "Best ndcg_cut_10 is 0.003584\n",
      "Best setting is ['BR(DirichletLM) dirichletlm.mu=400']\n",
      "Fold 2\n",
      "Best ndcg_cut_10 is 0.003584\n",
      "Best setting is ['BR(DirichletLM) dirichletlm.mu=400']\n",
      "Fold 3\n",
      "Best ndcg_cut_10 is 0.003584\n",
      "Best setting is ['BR(DirichletLM) dirichletlm.mu=400']\n"
     ]
    }
   ],
   "source": [
    "t_1_lm = pt.KFoldGridSearch(\n",
    "    LM_full,\n",
    "    {LM_full : {\"dirichletlm.mu\" : [400,598,900,1141,1500]}},\n",
    "    [train_1, train_2, train_3],\n",
    "    qrels,\n",
    "    'ndcg_cut_10'\n",
    ")"
   ]
  },
  {
   "cell_type": "code",
   "execution_count": 42,
   "metadata": {},
   "outputs": [],
   "source": [
    "bm25_full_best = pt.BatchRetrieve(index_full, wmodel=\"BM25\", controls={\"bm25.b\" : 0.75,\"bm25.k_1\": 1.5})\n",
    "lm_full_best = pt.BatchRetrieve(index_full, wmodel=\"DirichletLM\", controls={\"Dirichletlm.mu\" : 400})"
   ]
  },
  {
   "cell_type": "code",
   "execution_count": 45,
   "metadata": {},
   "outputs": [
    {
     "data": {
      "text/html": [
       "<div>\n",
       "<style scoped>\n",
       "    .dataframe tbody tr th:only-of-type {\n",
       "        vertical-align: middle;\n",
       "    }\n",
       "\n",
       "    .dataframe tbody tr th {\n",
       "        vertical-align: top;\n",
       "    }\n",
       "\n",
       "    .dataframe thead th {\n",
       "        text-align: right;\n",
       "    }\n",
       "</style>\n",
       "<table border=\"1\" class=\"dataframe\">\n",
       "  <thead>\n",
       "    <tr style=\"text-align: right;\">\n",
       "      <th></th>\n",
       "      <th>name</th>\n",
       "      <th>recip_rank</th>\n",
       "      <th>ndcg_cut_10</th>\n",
       "      <th>P_5</th>\n",
       "      <th>P_10</th>\n",
       "      <th>P_20</th>\n",
       "      <th>recall_5</th>\n",
       "      <th>recall_10</th>\n",
       "      <th>recall_20</th>\n",
       "      <th>mrt</th>\n",
       "    </tr>\n",
       "  </thead>\n",
       "  <tbody>\n",
       "    <tr>\n",
       "      <th>0</th>\n",
       "      <td>BM25 b = 0.75 k1 = 1.5</td>\n",
       "      <td>0.193182</td>\n",
       "      <td>0.230569</td>\n",
       "      <td>0.056673</td>\n",
       "      <td>0.039062</td>\n",
       "      <td>0.024528</td>\n",
       "      <td>0.283364</td>\n",
       "      <td>0.390615</td>\n",
       "      <td>0.490555</td>\n",
       "      <td>418.573783</td>\n",
       "    </tr>\n",
       "    <tr>\n",
       "      <th>1</th>\n",
       "      <td>BM25_full</td>\n",
       "      <td>0.166105</td>\n",
       "      <td>0.195945</td>\n",
       "      <td>0.048873</td>\n",
       "      <td>0.033211</td>\n",
       "      <td>0.021024</td>\n",
       "      <td>0.244363</td>\n",
       "      <td>0.332115</td>\n",
       "      <td>0.420475</td>\n",
       "      <td>410.140432</td>\n",
       "    </tr>\n",
       "    <tr>\n",
       "      <th>2</th>\n",
       "      <td>Dirichlet LM mu = 400</td>\n",
       "      <td>0.202656</td>\n",
       "      <td>0.239472</td>\n",
       "      <td>0.060207</td>\n",
       "      <td>0.040158</td>\n",
       "      <td>0.025807</td>\n",
       "      <td>0.301036</td>\n",
       "      <td>0.401584</td>\n",
       "      <td>0.516149</td>\n",
       "      <td>448.215546</td>\n",
       "    </tr>\n",
       "    <tr>\n",
       "      <th>3</th>\n",
       "      <td>LM_full</td>\n",
       "      <td>0.228704</td>\n",
       "      <td>0.269240</td>\n",
       "      <td>0.067276</td>\n",
       "      <td>0.043693</td>\n",
       "      <td>0.026417</td>\n",
       "      <td>0.336380</td>\n",
       "      <td>0.436929</td>\n",
       "      <td>0.528336</td>\n",
       "      <td>447.919589</td>\n",
       "    </tr>\n",
       "  </tbody>\n",
       "</table>\n",
       "</div>"
      ],
      "text/plain": [
       "                     name  recip_rank  ndcg_cut_10       P_5      P_10  \\\n",
       "0  BM25 b = 0.75 k1 = 1.5    0.193182     0.230569  0.056673  0.039062   \n",
       "1               BM25_full    0.166105     0.195945  0.048873  0.033211   \n",
       "2   Dirichlet LM mu = 400    0.202656     0.239472  0.060207  0.040158   \n",
       "3                 LM_full    0.228704     0.269240  0.067276  0.043693   \n",
       "\n",
       "       P_20  recall_5  recall_10  recall_20         mrt  \n",
       "0  0.024528  0.283364   0.390615   0.490555  418.573783  \n",
       "1  0.021024  0.244363   0.332115   0.420475  410.140432  \n",
       "2  0.025807  0.301036   0.401584   0.516149  448.215546  \n",
       "3  0.026417  0.336380   0.436929   0.528336  447.919589  "
      ]
     },
     "execution_count": 45,
     "metadata": {},
     "output_type": "execute_result"
    }
   ],
   "source": [
    "pt.Experiment(\n",
    "    [bm25_full_best,BM25_full,lm_full_best,LM_full],\n",
    "    val_1,\n",
    "    qrels,\n",
    "    eval_metrics=metrics_list,\n",
    "    names=['BM25 b = 0.75 k1 = 1.5','BM25_full','Dirichlet LM mu = 400','LM_full'],\n",
    ")\n",
    "    "
   ]
  },
  {
   "cell_type": "code",
   "execution_count": 46,
   "metadata": {},
   "outputs": [
    {
     "data": {
      "text/html": [
       "<div>\n",
       "<style scoped>\n",
       "    .dataframe tbody tr th:only-of-type {\n",
       "        vertical-align: middle;\n",
       "    }\n",
       "\n",
       "    .dataframe tbody tr th {\n",
       "        vertical-align: top;\n",
       "    }\n",
       "\n",
       "    .dataframe thead th {\n",
       "        text-align: right;\n",
       "    }\n",
       "</style>\n",
       "<table border=\"1\" class=\"dataframe\">\n",
       "  <thead>\n",
       "    <tr style=\"text-align: right;\">\n",
       "      <th></th>\n",
       "      <th>name</th>\n",
       "      <th>recip_rank</th>\n",
       "      <th>ndcg_cut_10</th>\n",
       "      <th>P_5</th>\n",
       "      <th>P_10</th>\n",
       "      <th>P_20</th>\n",
       "      <th>recall_5</th>\n",
       "      <th>recall_10</th>\n",
       "      <th>recall_20</th>\n",
       "      <th>mrt</th>\n",
       "    </tr>\n",
       "  </thead>\n",
       "  <tbody>\n",
       "    <tr>\n",
       "      <th>0</th>\n",
       "      <td>BM25 b = 0.75 k1 = 1.5</td>\n",
       "      <td>0.191211</td>\n",
       "      <td>0.233325</td>\n",
       "      <td>0.059920</td>\n",
       "      <td>0.040709</td>\n",
       "      <td>0.024528</td>\n",
       "      <td>0.299600</td>\n",
       "      <td>0.407090</td>\n",
       "      <td>0.490566</td>\n",
       "      <td>418.168634</td>\n",
       "    </tr>\n",
       "    <tr>\n",
       "      <th>1</th>\n",
       "      <td>BM25_full</td>\n",
       "      <td>0.161495</td>\n",
       "      <td>0.198512</td>\n",
       "      <td>0.050543</td>\n",
       "      <td>0.035735</td>\n",
       "      <td>0.022184</td>\n",
       "      <td>0.252716</td>\n",
       "      <td>0.357347</td>\n",
       "      <td>0.443682</td>\n",
       "      <td>413.159124</td>\n",
       "    </tr>\n",
       "    <tr>\n",
       "      <th>2</th>\n",
       "      <td>Dirichlet LM mu = 400</td>\n",
       "      <td>0.201954</td>\n",
       "      <td>0.242723</td>\n",
       "      <td>0.060949</td>\n",
       "      <td>0.041910</td>\n",
       "      <td>0.026072</td>\n",
       "      <td>0.304746</td>\n",
       "      <td>0.419097</td>\n",
       "      <td>0.521441</td>\n",
       "      <td>452.872794</td>\n",
       "    </tr>\n",
       "    <tr>\n",
       "      <th>3</th>\n",
       "      <td>LM_full</td>\n",
       "      <td>0.214498</td>\n",
       "      <td>0.256729</td>\n",
       "      <td>0.065866</td>\n",
       "      <td>0.043396</td>\n",
       "      <td>0.026672</td>\n",
       "      <td>0.329331</td>\n",
       "      <td>0.433962</td>\n",
       "      <td>0.533448</td>\n",
       "      <td>452.334792</td>\n",
       "    </tr>\n",
       "  </tbody>\n",
       "</table>\n",
       "</div>"
      ],
      "text/plain": [
       "                     name  recip_rank  ndcg_cut_10       P_5      P_10  \\\n",
       "0  BM25 b = 0.75 k1 = 1.5    0.191211     0.233325  0.059920  0.040709   \n",
       "1               BM25_full    0.161495     0.198512  0.050543  0.035735   \n",
       "2   Dirichlet LM mu = 400    0.201954     0.242723  0.060949  0.041910   \n",
       "3                 LM_full    0.214498     0.256729  0.065866  0.043396   \n",
       "\n",
       "       P_20  recall_5  recall_10  recall_20         mrt  \n",
       "0  0.024528  0.299600   0.407090   0.490566  418.168634  \n",
       "1  0.022184  0.252716   0.357347   0.443682  413.159124  \n",
       "2  0.026072  0.304746   0.419097   0.521441  452.872794  \n",
       "3  0.026672  0.329331   0.433962   0.533448  452.334792  "
      ]
     },
     "execution_count": 46,
     "metadata": {},
     "output_type": "execute_result"
    }
   ],
   "source": [
    "pt.Experiment(\n",
    "    [bm25_full_best,BM25_full,lm_full_best,LM_full],\n",
    "    val_2,\n",
    "    qrels,\n",
    "    eval_metrics=metrics_list,\n",
    "    names=['BM25 b = 0.75 k1 = 1.5','BM25_full','Dirichlet LM mu = 400','LM_full'],\n",
    ")\n",
    "    "
   ]
  },
  {
   "cell_type": "code",
   "execution_count": 47,
   "metadata": {},
   "outputs": [
    {
     "data": {
      "text/html": [
       "<div>\n",
       "<style scoped>\n",
       "    .dataframe tbody tr th:only-of-type {\n",
       "        vertical-align: middle;\n",
       "    }\n",
       "\n",
       "    .dataframe tbody tr th {\n",
       "        vertical-align: top;\n",
       "    }\n",
       "\n",
       "    .dataframe thead th {\n",
       "        text-align: right;\n",
       "    }\n",
       "</style>\n",
       "<table border=\"1\" class=\"dataframe\">\n",
       "  <thead>\n",
       "    <tr style=\"text-align: right;\">\n",
       "      <th></th>\n",
       "      <th>name</th>\n",
       "      <th>recip_rank</th>\n",
       "      <th>ndcg_cut_10</th>\n",
       "      <th>P_5</th>\n",
       "      <th>P_10</th>\n",
       "      <th>P_20</th>\n",
       "      <th>recall_5</th>\n",
       "      <th>recall_10</th>\n",
       "      <th>recall_20</th>\n",
       "      <th>mrt</th>\n",
       "    </tr>\n",
       "  </thead>\n",
       "  <tbody>\n",
       "    <tr>\n",
       "      <th>0</th>\n",
       "      <td>BM25 b = 0.75 k1 = 1.5</td>\n",
       "      <td>0.186765</td>\n",
       "      <td>0.220127</td>\n",
       "      <td>0.057764</td>\n",
       "      <td>0.036832</td>\n",
       "      <td>0.023292</td>\n",
       "      <td>0.288820</td>\n",
       "      <td>0.368323</td>\n",
       "      <td>0.465839</td>\n",
       "      <td>415.544765</td>\n",
       "    </tr>\n",
       "    <tr>\n",
       "      <th>1</th>\n",
       "      <td>BM25_full</td>\n",
       "      <td>0.163588</td>\n",
       "      <td>0.192215</td>\n",
       "      <td>0.049068</td>\n",
       "      <td>0.032360</td>\n",
       "      <td>0.020342</td>\n",
       "      <td>0.245342</td>\n",
       "      <td>0.323602</td>\n",
       "      <td>0.406832</td>\n",
       "      <td>410.566589</td>\n",
       "    </tr>\n",
       "    <tr>\n",
       "      <th>2</th>\n",
       "      <td>Dirichlet LM mu = 400</td>\n",
       "      <td>0.195584</td>\n",
       "      <td>0.232996</td>\n",
       "      <td>0.059503</td>\n",
       "      <td>0.039565</td>\n",
       "      <td>0.024472</td>\n",
       "      <td>0.297516</td>\n",
       "      <td>0.395652</td>\n",
       "      <td>0.489441</td>\n",
       "      <td>450.324169</td>\n",
       "    </tr>\n",
       "    <tr>\n",
       "      <th>3</th>\n",
       "      <td>LM_full</td>\n",
       "      <td>0.224586</td>\n",
       "      <td>0.263751</td>\n",
       "      <td>0.065342</td>\n",
       "      <td>0.042857</td>\n",
       "      <td>0.025745</td>\n",
       "      <td>0.326708</td>\n",
       "      <td>0.428571</td>\n",
       "      <td>0.514907</td>\n",
       "      <td>450.262006</td>\n",
       "    </tr>\n",
       "  </tbody>\n",
       "</table>\n",
       "</div>"
      ],
      "text/plain": [
       "                     name  recip_rank  ndcg_cut_10       P_5      P_10  \\\n",
       "0  BM25 b = 0.75 k1 = 1.5    0.186765     0.220127  0.057764  0.036832   \n",
       "1               BM25_full    0.163588     0.192215  0.049068  0.032360   \n",
       "2   Dirichlet LM mu = 400    0.195584     0.232996  0.059503  0.039565   \n",
       "3                 LM_full    0.224586     0.263751  0.065342  0.042857   \n",
       "\n",
       "       P_20  recall_5  recall_10  recall_20         mrt  \n",
       "0  0.023292  0.288820   0.368323   0.465839  415.544765  \n",
       "1  0.020342  0.245342   0.323602   0.406832  410.566589  \n",
       "2  0.024472  0.297516   0.395652   0.489441  450.324169  \n",
       "3  0.025745  0.326708   0.428571   0.514907  450.262006  "
      ]
     },
     "execution_count": 47,
     "metadata": {},
     "output_type": "execute_result"
    }
   ],
   "source": [
    "pt.Experiment(\n",
    "    [bm25_full_best,BM25_full,lm_full_best,LM_full],\n",
    "    val_3,\n",
    "    qrels,\n",
    "    eval_metrics=metrics_list,\n",
    "    names=['BM25 b = 0.75 k1 = 1.5','BM25_full','Dirichlet LM mu = 400','LM_full'],\n",
    ")\n",
    "    "
   ]
  },
  {
   "attachments": {},
   "cell_type": "markdown",
   "metadata": {},
   "source": [
    "Stopword removed index"
   ]
  },
  {
   "attachments": {},
   "cell_type": "markdown",
   "metadata": {},
   "source": [
    "train 1"
   ]
  },
  {
   "cell_type": "code",
   "execution_count": 24,
   "metadata": {},
   "outputs": [],
   "source": [
    "BM25_stop = pt.BatchRetrieve(index_stop, wmodel=\"BM25\", controls={\"bm25.b\" : 0.75,\"bm25.k_1\": 0.5})\n",
    "LM_stop = pt.BatchRetrieve(index_stop, wmodel=\"DirichletLM\", controls={\"dirichletlm.mu\" : 1141})"
   ]
  },
  {
   "cell_type": "code",
   "execution_count": 72,
   "metadata": {},
   "outputs": [
    {
     "name": "stdout",
     "output_type": "stream",
     "text": [
      "Fold 1\n",
      "Best ndcg_cut_10 is 0.003992\n",
      "Best setting is ['BR(BM25) bm25.b=0.75', 'BR(BM25) bm25.k_1=1.5']\n",
      "Fold 2\n",
      "Best ndcg_cut_10 is 0.003992\n",
      "Best setting is ['BR(BM25) bm25.b=0.75', 'BR(BM25) bm25.k_1=1.5']\n",
      "Fold 3\n",
      "Best ndcg_cut_10 is 0.003992\n",
      "Best setting is ['BR(BM25) bm25.b=0.75', 'BR(BM25) bm25.k_1=1.5']\n"
     ]
    }
   ],
   "source": [
    "t_1_bm_stop = pt.KFoldGridSearch(\n",
    "    BM25_stop,\n",
    "    {BM25_stop : {'bm25.b' : [0.25, 0.75],'bm25.k_1' : [0.5, 1.5]}},\n",
    "    [train_1, train_2, train_3],\n",
    "    qrels,\n",
    "    'ndcg_cut_10'\n",
    "    )"
   ]
  },
  {
   "cell_type": "code",
   "execution_count": 25,
   "metadata": {},
   "outputs": [
    {
     "name": "stdout",
     "output_type": "stream",
     "text": [
      "Fold 1\n",
      "Best ndcg_cut_10 is 0.003814\n",
      "Best setting is ['BR(DirichletLM) dirichletlm.mu=400']\n",
      "Fold 2\n",
      "Best ndcg_cut_10 is 0.003814\n",
      "Best setting is ['BR(DirichletLM) dirichletlm.mu=400']\n",
      "Fold 3\n",
      "Best ndcg_cut_10 is 0.003814\n",
      "Best setting is ['BR(DirichletLM) dirichletlm.mu=400']\n"
     ]
    }
   ],
   "source": [
    "t_1_lm_stop = pt.KFoldGridSearch(\n",
    "    LM_stop,\n",
    "    {LM_stop : {\"dirichletlm.mu\" : [400,598,900,1141,1500]}},\n",
    "    [train_1, train_2, train_3],\n",
    "    qrels,\n",
    "    'ndcg_cut_10'\n",
    "    )"
   ]
  },
  {
   "cell_type": "code",
   "execution_count": 48,
   "metadata": {},
   "outputs": [],
   "source": [
    "bm25_stop_best = pt.BatchRetrieve(index_stop, wmodel=\"BM25\", controls={\"bm25.b\" : 0.75,\"bm25.k_1\": 1.5})\n",
    "lm_stop_best = pt.BatchRetrieve(index_stop, wmodel=\"DirichletLM\", controls={\"Dirichletlm.mu\" : 400})"
   ]
  },
  {
   "cell_type": "code",
   "execution_count": 49,
   "metadata": {},
   "outputs": [
    {
     "data": {
      "text/html": [
       "<div>\n",
       "<style scoped>\n",
       "    .dataframe tbody tr th:only-of-type {\n",
       "        vertical-align: middle;\n",
       "    }\n",
       "\n",
       "    .dataframe tbody tr th {\n",
       "        vertical-align: top;\n",
       "    }\n",
       "\n",
       "    .dataframe thead th {\n",
       "        text-align: right;\n",
       "    }\n",
       "</style>\n",
       "<table border=\"1\" class=\"dataframe\">\n",
       "  <thead>\n",
       "    <tr style=\"text-align: right;\">\n",
       "      <th></th>\n",
       "      <th>name</th>\n",
       "      <th>recip_rank</th>\n",
       "      <th>ndcg_cut_10</th>\n",
       "      <th>P_5</th>\n",
       "      <th>P_10</th>\n",
       "      <th>P_20</th>\n",
       "      <th>recall_5</th>\n",
       "      <th>recall_10</th>\n",
       "      <th>recall_20</th>\n",
       "      <th>mrt</th>\n",
       "    </tr>\n",
       "  </thead>\n",
       "  <tbody>\n",
       "    <tr>\n",
       "      <th>0</th>\n",
       "      <td>BM25 b = 0.75 k1 = 1.5</td>\n",
       "      <td>0.249711</td>\n",
       "      <td>0.295676</td>\n",
       "      <td>0.073492</td>\n",
       "      <td>0.048141</td>\n",
       "      <td>0.028854</td>\n",
       "      <td>0.367459</td>\n",
       "      <td>0.481414</td>\n",
       "      <td>0.577087</td>\n",
       "      <td>63.427553</td>\n",
       "    </tr>\n",
       "    <tr>\n",
       "      <th>1</th>\n",
       "      <td>Dirichlet LM mu = 400</td>\n",
       "      <td>0.188335</td>\n",
       "      <td>0.226496</td>\n",
       "      <td>0.057282</td>\n",
       "      <td>0.039366</td>\n",
       "      <td>0.025320</td>\n",
       "      <td>0.286411</td>\n",
       "      <td>0.393662</td>\n",
       "      <td>0.506399</td>\n",
       "      <td>61.829198</td>\n",
       "    </tr>\n",
       "  </tbody>\n",
       "</table>\n",
       "</div>"
      ],
      "text/plain": [
       "                     name  recip_rank  ndcg_cut_10       P_5      P_10  \\\n",
       "0  BM25 b = 0.75 k1 = 1.5    0.249711     0.295676  0.073492  0.048141   \n",
       "1   Dirichlet LM mu = 400    0.188335     0.226496  0.057282  0.039366   \n",
       "\n",
       "       P_20  recall_5  recall_10  recall_20        mrt  \n",
       "0  0.028854  0.367459   0.481414   0.577087  63.427553  \n",
       "1  0.025320  0.286411   0.393662   0.506399  61.829198  "
      ]
     },
     "execution_count": 49,
     "metadata": {},
     "output_type": "execute_result"
    }
   ],
   "source": [
    "pt.Experiment(\n",
    "    [bm25_stop_best,lm_stop_best],\n",
    "    val_1,\n",
    "    qrels,\n",
    "    eval_metrics=metrics_list,\n",
    "    names=['BM25 b = 0.75 k1 = 1.5','Dirichlet LM mu = 400'],\n",
    ")"
   ]
  },
  {
   "cell_type": "code",
   "execution_count": 50,
   "metadata": {},
   "outputs": [
    {
     "data": {
      "text/html": [
       "<div>\n",
       "<style scoped>\n",
       "    .dataframe tbody tr th:only-of-type {\n",
       "        vertical-align: middle;\n",
       "    }\n",
       "\n",
       "    .dataframe tbody tr th {\n",
       "        vertical-align: top;\n",
       "    }\n",
       "\n",
       "    .dataframe thead th {\n",
       "        text-align: right;\n",
       "    }\n",
       "</style>\n",
       "<table border=\"1\" class=\"dataframe\">\n",
       "  <thead>\n",
       "    <tr style=\"text-align: right;\">\n",
       "      <th></th>\n",
       "      <th>name</th>\n",
       "      <th>recip_rank</th>\n",
       "      <th>ndcg_cut_10</th>\n",
       "      <th>P_5</th>\n",
       "      <th>P_10</th>\n",
       "      <th>P_20</th>\n",
       "      <th>recall_5</th>\n",
       "      <th>recall_10</th>\n",
       "      <th>recall_20</th>\n",
       "      <th>mrt</th>\n",
       "    </tr>\n",
       "  </thead>\n",
       "  <tbody>\n",
       "    <tr>\n",
       "      <th>0</th>\n",
       "      <td>BM25 b = 0.75 k1 = 1.5</td>\n",
       "      <td>0.247259</td>\n",
       "      <td>0.295888</td>\n",
       "      <td>0.076043</td>\n",
       "      <td>0.049228</td>\n",
       "      <td>0.029874</td>\n",
       "      <td>0.380217</td>\n",
       "      <td>0.492281</td>\n",
       "      <td>0.597484</td>\n",
       "      <td>60.703413</td>\n",
       "    </tr>\n",
       "    <tr>\n",
       "      <th>1</th>\n",
       "      <td>Dirichlet LM mu = 400</td>\n",
       "      <td>0.191200</td>\n",
       "      <td>0.230030</td>\n",
       "      <td>0.058548</td>\n",
       "      <td>0.040080</td>\n",
       "      <td>0.025729</td>\n",
       "      <td>0.292739</td>\n",
       "      <td>0.400800</td>\n",
       "      <td>0.514580</td>\n",
       "      <td>62.048289</td>\n",
       "    </tr>\n",
       "  </tbody>\n",
       "</table>\n",
       "</div>"
      ],
      "text/plain": [
       "                     name  recip_rank  ndcg_cut_10       P_5      P_10  \\\n",
       "0  BM25 b = 0.75 k1 = 1.5    0.247259     0.295888  0.076043  0.049228   \n",
       "1   Dirichlet LM mu = 400    0.191200     0.230030  0.058548  0.040080   \n",
       "\n",
       "       P_20  recall_5  recall_10  recall_20        mrt  \n",
       "0  0.029874  0.380217   0.492281   0.597484  60.703413  \n",
       "1  0.025729  0.292739   0.400800   0.514580  62.048289  "
      ]
     },
     "execution_count": 50,
     "metadata": {},
     "output_type": "execute_result"
    }
   ],
   "source": [
    "pt.Experiment(\n",
    "    [bm25_stop_best,lm_stop_best],\n",
    "    val_2,\n",
    "    qrels,\n",
    "    eval_metrics=metrics_list,\n",
    "    names=['BM25 b = 0.75 k1 = 1.5','Dirichlet LM mu = 400'],\n",
    ")"
   ]
  },
  {
   "cell_type": "code",
   "execution_count": 51,
   "metadata": {},
   "outputs": [
    {
     "data": {
      "text/html": [
       "<div>\n",
       "<style scoped>\n",
       "    .dataframe tbody tr th:only-of-type {\n",
       "        vertical-align: middle;\n",
       "    }\n",
       "\n",
       "    .dataframe tbody tr th {\n",
       "        vertical-align: top;\n",
       "    }\n",
       "\n",
       "    .dataframe thead th {\n",
       "        text-align: right;\n",
       "    }\n",
       "</style>\n",
       "<table border=\"1\" class=\"dataframe\">\n",
       "  <thead>\n",
       "    <tr style=\"text-align: right;\">\n",
       "      <th></th>\n",
       "      <th>name</th>\n",
       "      <th>recip_rank</th>\n",
       "      <th>ndcg_cut_10</th>\n",
       "      <th>P_5</th>\n",
       "      <th>P_10</th>\n",
       "      <th>P_20</th>\n",
       "      <th>recall_5</th>\n",
       "      <th>recall_10</th>\n",
       "      <th>recall_20</th>\n",
       "      <th>mrt</th>\n",
       "    </tr>\n",
       "  </thead>\n",
       "  <tbody>\n",
       "    <tr>\n",
       "      <th>0</th>\n",
       "      <td>BM25 b = 0.75 k1 = 1.5</td>\n",
       "      <td>0.242331</td>\n",
       "      <td>0.287259</td>\n",
       "      <td>0.073416</td>\n",
       "      <td>0.047143</td>\n",
       "      <td>0.028385</td>\n",
       "      <td>0.367081</td>\n",
       "      <td>0.471429</td>\n",
       "      <td>0.567702</td>\n",
       "      <td>61.420564</td>\n",
       "    </tr>\n",
       "    <tr>\n",
       "      <th>1</th>\n",
       "      <td>Dirichlet LM mu = 400</td>\n",
       "      <td>0.182977</td>\n",
       "      <td>0.217846</td>\n",
       "      <td>0.054658</td>\n",
       "      <td>0.037578</td>\n",
       "      <td>0.024099</td>\n",
       "      <td>0.273292</td>\n",
       "      <td>0.375776</td>\n",
       "      <td>0.481988</td>\n",
       "      <td>63.114981</td>\n",
       "    </tr>\n",
       "  </tbody>\n",
       "</table>\n",
       "</div>"
      ],
      "text/plain": [
       "                     name  recip_rank  ndcg_cut_10       P_5      P_10  \\\n",
       "0  BM25 b = 0.75 k1 = 1.5    0.242331     0.287259  0.073416  0.047143   \n",
       "1   Dirichlet LM mu = 400    0.182977     0.217846  0.054658  0.037578   \n",
       "\n",
       "       P_20  recall_5  recall_10  recall_20        mrt  \n",
       "0  0.028385  0.367081   0.471429   0.567702  61.420564  \n",
       "1  0.024099  0.273292   0.375776   0.481988  63.114981  "
      ]
     },
     "execution_count": 51,
     "metadata": {},
     "output_type": "execute_result"
    }
   ],
   "source": [
    "pt.Experiment(\n",
    "    [bm25_stop_best,lm_stop_best],\n",
    "    val_3,\n",
    "    qrels,\n",
    "    eval_metrics=metrics_list,\n",
    "    names=['BM25 b = 0.75 k1 = 1.5','Dirichlet LM mu = 400'],\n",
    ")"
   ]
  },
  {
   "attachments": {},
   "cell_type": "markdown",
   "metadata": {},
   "source": [
    "Stemmed Index"
   ]
  },
  {
   "cell_type": "code",
   "execution_count": 27,
   "metadata": {},
   "outputs": [],
   "source": [
    "BM25_stem = pt.BatchRetrieve(index_stem, wmodel=\"BM25\", controls={\"bm25.b\" : 0.75,\"bm25.k_1\": 0.5})\n",
    "LM_stem = pt.BatchRetrieve(index_stem, wmodel=\"DirichletLM\", controls={\"dirichletlm.mu\" : 1141})"
   ]
  },
  {
   "cell_type": "code",
   "execution_count": 29,
   "metadata": {},
   "outputs": [
    {
     "name": "stdout",
     "output_type": "stream",
     "text": [
      "Fold 1\n",
      "Best ndcg_cut_10 is 0.002834\n",
      "Best setting is ['BR(BM25) bm25.b=0.75', 'BR(BM25) bm25.k_1=1.5']\n",
      "Fold 2\n",
      "Best ndcg_cut_10 is 0.002834\n",
      "Best setting is ['BR(BM25) bm25.b=0.75', 'BR(BM25) bm25.k_1=1.5']\n",
      "Fold 3\n",
      "Best ndcg_cut_10 is 0.002834\n",
      "Best setting is ['BR(BM25) bm25.b=0.75', 'BR(BM25) bm25.k_1=1.5']\n"
     ]
    }
   ],
   "source": [
    "t_1_bm_stem = pt.KFoldGridSearch(\n",
    "    BM25_stem,\n",
    "    {BM25_stem : {'bm25.b' : [0.25, 0.75],'bm25.k_1' : [0.5, 1.5]}},\n",
    "    [train_1, train_2, train_3],\n",
    "    qrels,\n",
    "    'ndcg_cut_10'\n",
    "    )"
   ]
  },
  {
   "cell_type": "code",
   "execution_count": 28,
   "metadata": {},
   "outputs": [
    {
     "name": "stdout",
     "output_type": "stream",
     "text": [
      "Fold 1\n",
      "Best ndcg_cut_10 is 0.003609\n",
      "Best setting is ['BR(DirichletLM) dirichletlm.mu=400']\n",
      "Fold 2\n",
      "Best ndcg_cut_10 is 0.003609\n",
      "Best setting is ['BR(DirichletLM) dirichletlm.mu=400']\n",
      "Fold 3\n",
      "Best ndcg_cut_10 is 0.003609\n",
      "Best setting is ['BR(DirichletLM) dirichletlm.mu=400']\n"
     ]
    }
   ],
   "source": [
    "t_1_lm_stem = pt.KFoldGridSearch(\n",
    "    LM_stem,\n",
    "    {LM_stem : {\"dirichletlm.mu\" : [400,598,900,1141,1500]}},\n",
    "    [train_1, train_2, train_3],\n",
    "    qrels,\n",
    "    'ndcg_cut_10'\n",
    "    )"
   ]
  },
  {
   "cell_type": "code",
   "execution_count": 52,
   "metadata": {},
   "outputs": [],
   "source": [
    "bm25_stem_best = pt.BatchRetrieve(index_stem, wmodel=\"BM25\", controls={\"bm25.b\" : 0.75,\"bm25.k_1\": 1.5})\n",
    "lm_stem_best = pt.BatchRetrieve(index_stem, wmodel=\"DirichletLM\", controls={\"Dirichletlm.mu\" : 400})"
   ]
  },
  {
   "cell_type": "code",
   "execution_count": 53,
   "metadata": {},
   "outputs": [
    {
     "data": {
      "text/html": [
       "<div>\n",
       "<style scoped>\n",
       "    .dataframe tbody tr th:only-of-type {\n",
       "        vertical-align: middle;\n",
       "    }\n",
       "\n",
       "    .dataframe tbody tr th {\n",
       "        vertical-align: top;\n",
       "    }\n",
       "\n",
       "    .dataframe thead th {\n",
       "        text-align: right;\n",
       "    }\n",
       "</style>\n",
       "<table border=\"1\" class=\"dataframe\">\n",
       "  <thead>\n",
       "    <tr style=\"text-align: right;\">\n",
       "      <th></th>\n",
       "      <th>name</th>\n",
       "      <th>recip_rank</th>\n",
       "      <th>ndcg_cut_10</th>\n",
       "      <th>P_5</th>\n",
       "      <th>P_10</th>\n",
       "      <th>P_20</th>\n",
       "      <th>recall_5</th>\n",
       "      <th>recall_10</th>\n",
       "      <th>recall_20</th>\n",
       "      <th>mrt</th>\n",
       "    </tr>\n",
       "  </thead>\n",
       "  <tbody>\n",
       "    <tr>\n",
       "      <th>0</th>\n",
       "      <td>BM25 b = 0.75 k1 = 1.5</td>\n",
       "      <td>0.176075</td>\n",
       "      <td>0.207396</td>\n",
       "      <td>0.051554</td>\n",
       "      <td>0.034918</td>\n",
       "      <td>0.022578</td>\n",
       "      <td>0.257770</td>\n",
       "      <td>0.349177</td>\n",
       "      <td>0.451554</td>\n",
       "      <td>439.432874</td>\n",
       "    </tr>\n",
       "    <tr>\n",
       "      <th>1</th>\n",
       "      <td>Dirichlet LM mu = 400</td>\n",
       "      <td>0.197873</td>\n",
       "      <td>0.234872</td>\n",
       "      <td>0.058501</td>\n",
       "      <td>0.039671</td>\n",
       "      <td>0.024802</td>\n",
       "      <td>0.292505</td>\n",
       "      <td>0.396709</td>\n",
       "      <td>0.496039</td>\n",
       "      <td>471.885116</td>\n",
       "    </tr>\n",
       "  </tbody>\n",
       "</table>\n",
       "</div>"
      ],
      "text/plain": [
       "                     name  recip_rank  ndcg_cut_10       P_5      P_10  \\\n",
       "0  BM25 b = 0.75 k1 = 1.5    0.176075     0.207396  0.051554  0.034918   \n",
       "1   Dirichlet LM mu = 400    0.197873     0.234872  0.058501  0.039671   \n",
       "\n",
       "       P_20  recall_5  recall_10  recall_20         mrt  \n",
       "0  0.022578  0.257770   0.349177   0.451554  439.432874  \n",
       "1  0.024802  0.292505   0.396709   0.496039  471.885116  "
      ]
     },
     "execution_count": 53,
     "metadata": {},
     "output_type": "execute_result"
    }
   ],
   "source": [
    "pt.Experiment(\n",
    "    [bm25_stem_best,lm_stem_best],\n",
    "    val_1,\n",
    "    qrels,\n",
    "    eval_metrics=metrics_list,\n",
    "    names=['BM25 b = 0.75 k1 = 1.5','Dirichlet LM mu = 400']\n",
    ")"
   ]
  },
  {
   "cell_type": "code",
   "execution_count": 54,
   "metadata": {},
   "outputs": [
    {
     "data": {
      "text/html": [
       "<div>\n",
       "<style scoped>\n",
       "    .dataframe tbody tr th:only-of-type {\n",
       "        vertical-align: middle;\n",
       "    }\n",
       "\n",
       "    .dataframe tbody tr th {\n",
       "        vertical-align: top;\n",
       "    }\n",
       "\n",
       "    .dataframe thead th {\n",
       "        text-align: right;\n",
       "    }\n",
       "</style>\n",
       "<table border=\"1\" class=\"dataframe\">\n",
       "  <thead>\n",
       "    <tr style=\"text-align: right;\">\n",
       "      <th></th>\n",
       "      <th>name</th>\n",
       "      <th>recip_rank</th>\n",
       "      <th>ndcg_cut_10</th>\n",
       "      <th>P_5</th>\n",
       "      <th>P_10</th>\n",
       "      <th>P_20</th>\n",
       "      <th>recall_5</th>\n",
       "      <th>recall_10</th>\n",
       "      <th>recall_20</th>\n",
       "      <th>mrt</th>\n",
       "    </tr>\n",
       "  </thead>\n",
       "  <tbody>\n",
       "    <tr>\n",
       "      <th>0</th>\n",
       "      <td>BM25 b = 0.75 k1 = 1.5</td>\n",
       "      <td>0.176938</td>\n",
       "      <td>0.216817</td>\n",
       "      <td>0.055346</td>\n",
       "      <td>0.038308</td>\n",
       "      <td>0.023385</td>\n",
       "      <td>0.276730</td>\n",
       "      <td>0.383076</td>\n",
       "      <td>0.467696</td>\n",
       "      <td>440.694914</td>\n",
       "    </tr>\n",
       "    <tr>\n",
       "      <th>1</th>\n",
       "      <td>Dirichlet LM mu = 400</td>\n",
       "      <td>0.197770</td>\n",
       "      <td>0.238743</td>\n",
       "      <td>0.059234</td>\n",
       "      <td>0.041681</td>\n",
       "      <td>0.026158</td>\n",
       "      <td>0.296169</td>\n",
       "      <td>0.416810</td>\n",
       "      <td>0.523156</td>\n",
       "      <td>477.358595</td>\n",
       "    </tr>\n",
       "  </tbody>\n",
       "</table>\n",
       "</div>"
      ],
      "text/plain": [
       "                     name  recip_rank  ndcg_cut_10       P_5      P_10  \\\n",
       "0  BM25 b = 0.75 k1 = 1.5    0.176938     0.216817  0.055346  0.038308   \n",
       "1   Dirichlet LM mu = 400    0.197770     0.238743  0.059234  0.041681   \n",
       "\n",
       "       P_20  recall_5  recall_10  recall_20         mrt  \n",
       "0  0.023385  0.276730   0.383076   0.467696  440.694914  \n",
       "1  0.026158  0.296169   0.416810   0.523156  477.358595  "
      ]
     },
     "execution_count": 54,
     "metadata": {},
     "output_type": "execute_result"
    }
   ],
   "source": [
    "pt.Experiment(\n",
    "    [bm25_stem_best,lm_stem_best],\n",
    "    val_2,\n",
    "    qrels,\n",
    "    eval_metrics=metrics_list,\n",
    "    names=['BM25 b = 0.75 k1 = 1.5','Dirichlet LM mu = 400']\n",
    ")"
   ]
  },
  {
   "cell_type": "code",
   "execution_count": 55,
   "metadata": {},
   "outputs": [
    {
     "data": {
      "text/html": [
       "<div>\n",
       "<style scoped>\n",
       "    .dataframe tbody tr th:only-of-type {\n",
       "        vertical-align: middle;\n",
       "    }\n",
       "\n",
       "    .dataframe tbody tr th {\n",
       "        vertical-align: top;\n",
       "    }\n",
       "\n",
       "    .dataframe thead th {\n",
       "        text-align: right;\n",
       "    }\n",
       "</style>\n",
       "<table border=\"1\" class=\"dataframe\">\n",
       "  <thead>\n",
       "    <tr style=\"text-align: right;\">\n",
       "      <th></th>\n",
       "      <th>name</th>\n",
       "      <th>recip_rank</th>\n",
       "      <th>ndcg_cut_10</th>\n",
       "      <th>P_5</th>\n",
       "      <th>P_10</th>\n",
       "      <th>P_20</th>\n",
       "      <th>recall_5</th>\n",
       "      <th>recall_10</th>\n",
       "      <th>recall_20</th>\n",
       "      <th>mrt</th>\n",
       "    </tr>\n",
       "  </thead>\n",
       "  <tbody>\n",
       "    <tr>\n",
       "      <th>0</th>\n",
       "      <td>BM25 b = 0.75 k1 = 1.5</td>\n",
       "      <td>0.168355</td>\n",
       "      <td>0.199038</td>\n",
       "      <td>0.049689</td>\n",
       "      <td>0.033975</td>\n",
       "      <td>0.022019</td>\n",
       "      <td>0.248447</td>\n",
       "      <td>0.339752</td>\n",
       "      <td>0.440373</td>\n",
       "      <td>439.338365</td>\n",
       "    </tr>\n",
       "    <tr>\n",
       "      <th>1</th>\n",
       "      <td>Dirichlet LM mu = 400</td>\n",
       "      <td>0.186378</td>\n",
       "      <td>0.223783</td>\n",
       "      <td>0.056894</td>\n",
       "      <td>0.039006</td>\n",
       "      <td>0.024658</td>\n",
       "      <td>0.284472</td>\n",
       "      <td>0.390062</td>\n",
       "      <td>0.493168</td>\n",
       "      <td>477.714770</td>\n",
       "    </tr>\n",
       "  </tbody>\n",
       "</table>\n",
       "</div>"
      ],
      "text/plain": [
       "                     name  recip_rank  ndcg_cut_10       P_5      P_10  \\\n",
       "0  BM25 b = 0.75 k1 = 1.5    0.168355     0.199038  0.049689  0.033975   \n",
       "1   Dirichlet LM mu = 400    0.186378     0.223783  0.056894  0.039006   \n",
       "\n",
       "       P_20  recall_5  recall_10  recall_20         mrt  \n",
       "0  0.022019  0.248447   0.339752   0.440373  439.338365  \n",
       "1  0.024658  0.284472   0.390062   0.493168  477.714770  "
      ]
     },
     "execution_count": 55,
     "metadata": {},
     "output_type": "execute_result"
    }
   ],
   "source": [
    "pt.Experiment(\n",
    "    [bm25_stem_best,lm_stem_best],\n",
    "    val_3,\n",
    "    qrels,\n",
    "    eval_metrics=metrics_list,\n",
    "    names=['BM25 b = 0.75 k1 = 1.5','Dirichlet LM mu = 400']\n",
    ")"
   ]
  },
  {
   "attachments": {},
   "cell_type": "markdown",
   "metadata": {},
   "source": [
    "Stemmed index with stopwords removed"
   ]
  },
  {
   "cell_type": "code",
   "execution_count": 30,
   "metadata": {},
   "outputs": [],
   "source": [
    "BM25_stem_stop = pt.BatchRetrieve(index_stem_stop, wmodel=\"BM25\", controls={\"bm25.b\" : 0.75,\"bm25.k_1\": 0.5})\n",
    "LM_stem_stop = pt.BatchRetrieve(index_stem_stop, wmodel=\"DirichletLM\", controls={\"dirichletlm.mu\" : 1141})"
   ]
  },
  {
   "cell_type": "code",
   "execution_count": 31,
   "metadata": {},
   "outputs": [
    {
     "name": "stdout",
     "output_type": "stream",
     "text": [
      "Fold 1\n",
      "Best ndcg_cut_10 is 0.004052\n",
      "Best setting is ['BR(BM25) bm25.b=0.75', 'BR(BM25) bm25.k_1=1.5']\n",
      "Fold 2\n",
      "Best ndcg_cut_10 is 0.004052\n",
      "Best setting is ['BR(BM25) bm25.b=0.75', 'BR(BM25) bm25.k_1=1.5']\n",
      "Fold 3\n",
      "Best ndcg_cut_10 is 0.004052\n",
      "Best setting is ['BR(BM25) bm25.b=0.75', 'BR(BM25) bm25.k_1=1.5']\n"
     ]
    }
   ],
   "source": [
    "t_1_bm_stem_stop = pt.KFoldGridSearch(\n",
    "    BM25_stem_stop,\n",
    "    {BM25_stem_stop : {'bm25.b' : [0.25, 0.75],'bm25.k_1' : [0.5, 1.5]}},\n",
    "    [train_1, train_2, train_3],\n",
    "    qrels,\n",
    "    'ndcg_cut_10'\n",
    "    )"
   ]
  },
  {
   "cell_type": "code",
   "execution_count": 32,
   "metadata": {},
   "outputs": [
    {
     "name": "stdout",
     "output_type": "stream",
     "text": [
      "Fold 1\n",
      "Best ndcg_cut_10 is 0.003428\n",
      "Best setting is ['BR(DirichletLM) dirichletlm.mu=400']\n",
      "Fold 2\n",
      "Best ndcg_cut_10 is 0.003428\n",
      "Best setting is ['BR(DirichletLM) dirichletlm.mu=400']\n",
      "Fold 3\n",
      "Best ndcg_cut_10 is 0.003428\n",
      "Best setting is ['BR(DirichletLM) dirichletlm.mu=400']\n"
     ]
    }
   ],
   "source": [
    "t_1_lm_stem = pt.KFoldGridSearch(\n",
    "    LM_stem_stop,\n",
    "    {LM_stem : {\"dirichletlm.mu\" : [400,598,900,1141,1500]}},\n",
    "    [train_1, train_2, train_3],\n",
    "    qrels,\n",
    "    'ndcg_cut_10'\n",
    "    )"
   ]
  },
  {
   "cell_type": "code",
   "execution_count": 153,
   "metadata": {},
   "outputs": [],
   "source": [
    "bm25_stem_stop_best = pt.BatchRetrieve(index_stem_stop, wmodel=\"BM25\", controls={\"bm25.b\" : 0.75,\"bm25.k_1\": 1.5})\n",
    "lm_stem_stop_best = pt.BatchRetrieve(index_stem_stop, wmodel=\"DirichletLM\", controls={\"dirichletlm.mu\" : 400})"
   ]
  },
  {
   "cell_type": "code",
   "execution_count": 69,
   "metadata": {},
   "outputs": [
    {
     "data": {
      "text/html": [
       "<div>\n",
       "<style scoped>\n",
       "    .dataframe tbody tr th:only-of-type {\n",
       "        vertical-align: middle;\n",
       "    }\n",
       "\n",
       "    .dataframe tbody tr th {\n",
       "        vertical-align: top;\n",
       "    }\n",
       "\n",
       "    .dataframe thead th {\n",
       "        text-align: right;\n",
       "    }\n",
       "</style>\n",
       "<table border=\"1\" class=\"dataframe\">\n",
       "  <thead>\n",
       "    <tr style=\"text-align: right;\">\n",
       "      <th></th>\n",
       "      <th>name</th>\n",
       "      <th>recip_rank</th>\n",
       "      <th>ndcg_cut_10</th>\n",
       "      <th>P_5</th>\n",
       "      <th>P_10</th>\n",
       "      <th>P_20</th>\n",
       "      <th>recall_5</th>\n",
       "      <th>recall_10</th>\n",
       "      <th>recall_20</th>\n",
       "      <th>mrt</th>\n",
       "    </tr>\n",
       "  </thead>\n",
       "  <tbody>\n",
       "    <tr>\n",
       "      <th>0</th>\n",
       "      <td>BM25 b = 0.75 k1 = 1.5</td>\n",
       "      <td>0.248286</td>\n",
       "      <td>0.295243</td>\n",
       "      <td>0.073857</td>\n",
       "      <td>0.048507</td>\n",
       "      <td>0.029068</td>\n",
       "      <td>0.369287</td>\n",
       "      <td>0.485070</td>\n",
       "      <td>0.581353</td>\n",
       "      <td>103.768101</td>\n",
       "    </tr>\n",
       "    <tr>\n",
       "      <th>1</th>\n",
       "      <td>Dirichlet LM mu = 400</td>\n",
       "      <td>0.239951</td>\n",
       "      <td>0.281498</td>\n",
       "      <td>0.072273</td>\n",
       "      <td>0.045765</td>\n",
       "      <td>0.028397</td>\n",
       "      <td>0.361365</td>\n",
       "      <td>0.457648</td>\n",
       "      <td>0.567946</td>\n",
       "      <td>108.579270</td>\n",
       "    </tr>\n",
       "  </tbody>\n",
       "</table>\n",
       "</div>"
      ],
      "text/plain": [
       "                     name  recip_rank  ndcg_cut_10       P_5      P_10  \\\n",
       "0  BM25 b = 0.75 k1 = 1.5    0.248286     0.295243  0.073857  0.048507   \n",
       "1   Dirichlet LM mu = 400    0.239951     0.281498  0.072273  0.045765   \n",
       "\n",
       "       P_20  recall_5  recall_10  recall_20         mrt  \n",
       "0  0.029068  0.369287   0.485070   0.581353  103.768101  \n",
       "1  0.028397  0.361365   0.457648   0.567946  108.579270  "
      ]
     },
     "execution_count": 69,
     "metadata": {},
     "output_type": "execute_result"
    }
   ],
   "source": [
    "pt.Experiment(\n",
    "    [bm25_stem_stop_best,lm_stem_stop_best],\n",
    "    val_1,\n",
    "    qrels,\n",
    "    eval_metrics=metrics_list,\n",
    "    names=['BM25 b = 0.75 k1 = 1.5','Dirichlet LM mu = 400']\n",
    ")"
   ]
  },
  {
   "cell_type": "code",
   "execution_count": 57,
   "metadata": {},
   "outputs": [
    {
     "data": {
      "text/html": [
       "<div>\n",
       "<style scoped>\n",
       "    .dataframe tbody tr th:only-of-type {\n",
       "        vertical-align: middle;\n",
       "    }\n",
       "\n",
       "    .dataframe tbody tr th {\n",
       "        vertical-align: top;\n",
       "    }\n",
       "\n",
       "    .dataframe thead th {\n",
       "        text-align: right;\n",
       "    }\n",
       "</style>\n",
       "<table border=\"1\" class=\"dataframe\">\n",
       "  <thead>\n",
       "    <tr style=\"text-align: right;\">\n",
       "      <th></th>\n",
       "      <th>name</th>\n",
       "      <th>recip_rank</th>\n",
       "      <th>ndcg_cut_10</th>\n",
       "      <th>P_5</th>\n",
       "      <th>P_10</th>\n",
       "      <th>P_20</th>\n",
       "      <th>recall_5</th>\n",
       "      <th>recall_10</th>\n",
       "      <th>recall_20</th>\n",
       "      <th>mrt</th>\n",
       "    </tr>\n",
       "  </thead>\n",
       "  <tbody>\n",
       "    <tr>\n",
       "      <th>0</th>\n",
       "      <td>BM25 b = 0.75 k1 = 1.5</td>\n",
       "      <td>0.252223</td>\n",
       "      <td>0.304631</td>\n",
       "      <td>0.078788</td>\n",
       "      <td>0.051058</td>\n",
       "      <td>0.030103</td>\n",
       "      <td>0.393939</td>\n",
       "      <td>0.510577</td>\n",
       "      <td>0.602058</td>\n",
       "      <td>77.774495</td>\n",
       "    </tr>\n",
       "    <tr>\n",
       "      <th>1</th>\n",
       "      <td>Dirichlet LM mu = 400</td>\n",
       "      <td>0.234863</td>\n",
       "      <td>0.281306</td>\n",
       "      <td>0.073642</td>\n",
       "      <td>0.047456</td>\n",
       "      <td>0.029388</td>\n",
       "      <td>0.368210</td>\n",
       "      <td>0.474557</td>\n",
       "      <td>0.587764</td>\n",
       "      <td>77.513796</td>\n",
       "    </tr>\n",
       "  </tbody>\n",
       "</table>\n",
       "</div>"
      ],
      "text/plain": [
       "                     name  recip_rank  ndcg_cut_10       P_5      P_10  \\\n",
       "0  BM25 b = 0.75 k1 = 1.5    0.252223     0.304631  0.078788  0.051058   \n",
       "1   Dirichlet LM mu = 400    0.234863     0.281306  0.073642  0.047456   \n",
       "\n",
       "       P_20  recall_5  recall_10  recall_20        mrt  \n",
       "0  0.030103  0.393939   0.510577   0.602058  77.774495  \n",
       "1  0.029388  0.368210   0.474557   0.587764  77.513796  "
      ]
     },
     "execution_count": 57,
     "metadata": {},
     "output_type": "execute_result"
    }
   ],
   "source": [
    "pt.Experiment(\n",
    "    [bm25_stem_stop_best,lm_stem_stop_best],\n",
    "    val_2,\n",
    "    qrels,\n",
    "    eval_metrics=metrics_list,\n",
    "    names=['BM25 b = 0.75 k1 = 1.5','Dirichlet LM mu = 400']\n",
    ")"
   ]
  },
  {
   "cell_type": "code",
   "execution_count": 58,
   "metadata": {},
   "outputs": [
    {
     "data": {
      "text/html": [
       "<div>\n",
       "<style scoped>\n",
       "    .dataframe tbody tr th:only-of-type {\n",
       "        vertical-align: middle;\n",
       "    }\n",
       "\n",
       "    .dataframe tbody tr th {\n",
       "        vertical-align: top;\n",
       "    }\n",
       "\n",
       "    .dataframe thead th {\n",
       "        text-align: right;\n",
       "    }\n",
       "</style>\n",
       "<table border=\"1\" class=\"dataframe\">\n",
       "  <thead>\n",
       "    <tr style=\"text-align: right;\">\n",
       "      <th></th>\n",
       "      <th>name</th>\n",
       "      <th>recip_rank</th>\n",
       "      <th>ndcg_cut_10</th>\n",
       "      <th>P_5</th>\n",
       "      <th>P_10</th>\n",
       "      <th>P_20</th>\n",
       "      <th>recall_5</th>\n",
       "      <th>recall_10</th>\n",
       "      <th>recall_20</th>\n",
       "      <th>mrt</th>\n",
       "    </tr>\n",
       "  </thead>\n",
       "  <tbody>\n",
       "    <tr>\n",
       "      <th>0</th>\n",
       "      <td>BM25 b = 0.75 k1 = 1.5</td>\n",
       "      <td>0.244141</td>\n",
       "      <td>0.291725</td>\n",
       "      <td>0.074410</td>\n",
       "      <td>0.048447</td>\n",
       "      <td>0.029193</td>\n",
       "      <td>0.372050</td>\n",
       "      <td>0.484472</td>\n",
       "      <td>0.583851</td>\n",
       "      <td>76.416710</td>\n",
       "    </tr>\n",
       "    <tr>\n",
       "      <th>1</th>\n",
       "      <td>Dirichlet LM mu = 400</td>\n",
       "      <td>0.232873</td>\n",
       "      <td>0.278247</td>\n",
       "      <td>0.069441</td>\n",
       "      <td>0.046708</td>\n",
       "      <td>0.028416</td>\n",
       "      <td>0.347205</td>\n",
       "      <td>0.467081</td>\n",
       "      <td>0.568323</td>\n",
       "      <td>79.014989</td>\n",
       "    </tr>\n",
       "  </tbody>\n",
       "</table>\n",
       "</div>"
      ],
      "text/plain": [
       "                     name  recip_rank  ndcg_cut_10       P_5      P_10  \\\n",
       "0  BM25 b = 0.75 k1 = 1.5    0.244141     0.291725  0.074410  0.048447   \n",
       "1   Dirichlet LM mu = 400    0.232873     0.278247  0.069441  0.046708   \n",
       "\n",
       "       P_20  recall_5  recall_10  recall_20        mrt  \n",
       "0  0.029193  0.372050   0.484472   0.583851  76.416710  \n",
       "1  0.028416  0.347205   0.467081   0.568323  79.014989  "
      ]
     },
     "execution_count": 58,
     "metadata": {},
     "output_type": "execute_result"
    }
   ],
   "source": [
    "pt.Experiment(\n",
    "    [bm25_stem_stop_best,lm_stem_stop_best],\n",
    "    val_3,\n",
    "    qrels,\n",
    "    eval_metrics=metrics_list,\n",
    "    names=['BM25 b = 0.75 k1 = 1.5','Dirichlet LM mu = 400']\n",
    ")"
   ]
  },
  {
   "attachments": {},
   "cell_type": "markdown",
   "metadata": {},
   "source": [
    "Pseudo-Relevance Feedback"
   ]
  },
  {
   "cell_type": "code",
   "execution_count": 115,
   "metadata": {},
   "outputs": [],
   "source": [
    "BM25_ps = pt.BatchRetrieve(index_stem_stop, wmodel=\"BM25\", controls={\"bm25.b\" : 0.75,\"bm25.k_1\": 1.5})\n",
    "LM_ps = pt.BatchRetrieve(index_stem_stop, wmodel=\"DirichletLM\", controls={\"dirichletlm.mu\" : 400})"
   ]
  },
  {
   "cell_type": "code",
   "execution_count": 116,
   "metadata": {},
   "outputs": [],
   "source": [
    "rm3 = pt.rewrite.RM3(index_stem_stop)\n",
    "rm3_bm25 = BM25_ps >> rm3 >> BM25_ps\n",
    "rm3_lm = LM_ps >> rm3 >> LM_ps"
   ]
  },
  {
   "cell_type": "code",
   "execution_count": 117,
   "metadata": {},
   "outputs": [],
   "source": [
    "rm3_bm25_1 = BM25_ps >> pt.rewrite.RM3(index_stem_stop,fb_terms=10,fb_docs=3) >> BM25_ps\n",
    "rm3_bm25_2 = BM25_ps >> pt.rewrite.RM3(index_stem_stop,fb_terms=10,fb_docs=6) >> BM25_ps\n",
    "rm3_bm25_3 = BM25_ps >> pt.rewrite.RM3(index_stem_stop,fb_terms=20,fb_docs=3) >> BM25_ps\n",
    "rm3_bm25_4 = BM25_ps >> pt.rewrite.RM3(index_stem_stop,fb_terms=20,fb_docs=6) >> BM25_ps #best\n",
    "rm3_lm_1 = LM_ps >> pt.rewrite.RM3(index_stem_stop,fb_terms=10,fb_docs=3) >> LM_ps\n",
    "rm3_lm_2 = LM_ps >> pt.rewrite.RM3(index_stem_stop,fb_terms=10,fb_docs=6) >> LM_ps #best\n",
    "rm3_lm_3 = LM_ps >> pt.rewrite.RM3(index_stem_stop,fb_terms=20,fb_docs=3) >> LM_ps\n",
    "rm3_lm_4 = LM_ps >> pt.rewrite.RM3(index_stem_stop,fb_terms=20,fb_docs=6) >> LM_ps"
   ]
  },
  {
   "cell_type": "code",
   "execution_count": 39,
   "metadata": {},
   "outputs": [
    {
     "name": "stderr",
     "output_type": "stream",
     "text": [
      "pt.Experiment: 100%|██████████| 8/8 [4:04:49<00:00, 1836.24s/system]  \n"
     ]
    },
    {
     "data": {
      "text/html": [
       "<div>\n",
       "<style scoped>\n",
       "    .dataframe tbody tr th:only-of-type {\n",
       "        vertical-align: middle;\n",
       "    }\n",
       "\n",
       "    .dataframe tbody tr th {\n",
       "        vertical-align: top;\n",
       "    }\n",
       "\n",
       "    .dataframe thead th {\n",
       "        text-align: right;\n",
       "    }\n",
       "</style>\n",
       "<table border=\"1\" class=\"dataframe\">\n",
       "  <thead>\n",
       "    <tr style=\"text-align: right;\">\n",
       "      <th></th>\n",
       "      <th>name</th>\n",
       "      <th>recip_rank</th>\n",
       "      <th>ndcg_cut_10</th>\n",
       "      <th>P_5</th>\n",
       "      <th>P_10</th>\n",
       "      <th>P_20</th>\n",
       "      <th>recall_5</th>\n",
       "      <th>recall_10</th>\n",
       "      <th>recall_20</th>\n",
       "      <th>mrt</th>\n",
       "    </tr>\n",
       "  </thead>\n",
       "  <tbody>\n",
       "    <tr>\n",
       "      <th>0</th>\n",
       "      <td>BM25 # terms = 10, # docs = 3</td>\n",
       "      <td>0.220958</td>\n",
       "      <td>0.269379</td>\n",
       "      <td>0.070363</td>\n",
       "      <td>0.046689</td>\n",
       "      <td>0.028738</td>\n",
       "      <td>0.351813</td>\n",
       "      <td>0.466886</td>\n",
       "      <td>0.574768</td>\n",
       "      <td>436.921041</td>\n",
       "    </tr>\n",
       "    <tr>\n",
       "      <th>1</th>\n",
       "      <td>BM25 # terms = 10, # docs = 6</td>\n",
       "      <td>0.213200</td>\n",
       "      <td>0.261296</td>\n",
       "      <td>0.067306</td>\n",
       "      <td>0.046089</td>\n",
       "      <td>0.028634</td>\n",
       "      <td>0.336530</td>\n",
       "      <td>0.460893</td>\n",
       "      <td>0.572670</td>\n",
       "      <td>451.790328</td>\n",
       "    </tr>\n",
       "    <tr>\n",
       "      <th>2</th>\n",
       "      <td>BM25 # terms = 20, # docs = 3</td>\n",
       "      <td>0.221073</td>\n",
       "      <td>0.270864</td>\n",
       "      <td>0.071561</td>\n",
       "      <td>0.047258</td>\n",
       "      <td>0.029038</td>\n",
       "      <td>0.357806</td>\n",
       "      <td>0.472580</td>\n",
       "      <td>0.580761</td>\n",
       "      <td>553.687203</td>\n",
       "    </tr>\n",
       "    <tr>\n",
       "      <th>3</th>\n",
       "      <td>BM25 # terms = 20, # docs = 6</td>\n",
       "      <td>0.215348</td>\n",
       "      <td>0.264184</td>\n",
       "      <td>0.068984</td>\n",
       "      <td>0.046599</td>\n",
       "      <td>0.028963</td>\n",
       "      <td>0.344921</td>\n",
       "      <td>0.465987</td>\n",
       "      <td>0.579263</td>\n",
       "      <td>568.699249</td>\n",
       "    </tr>\n",
       "    <tr>\n",
       "      <th>4</th>\n",
       "      <td>DirichletLM # terms = 10, # docs = 3</td>\n",
       "      <td>0.159053</td>\n",
       "      <td>0.188550</td>\n",
       "      <td>0.048367</td>\n",
       "      <td>0.031585</td>\n",
       "      <td>0.019299</td>\n",
       "      <td>0.241834</td>\n",
       "      <td>0.315853</td>\n",
       "      <td>0.385975</td>\n",
       "      <td>554.882472</td>\n",
       "    </tr>\n",
       "    <tr>\n",
       "      <th>5</th>\n",
       "      <td>DirichletLM # terms = 10, # docs = 6</td>\n",
       "      <td>0.131249</td>\n",
       "      <td>0.160915</td>\n",
       "      <td>0.042134</td>\n",
       "      <td>0.029368</td>\n",
       "      <td>0.018475</td>\n",
       "      <td>0.210668</td>\n",
       "      <td>0.293677</td>\n",
       "      <td>0.369494</td>\n",
       "      <td>554.449741</td>\n",
       "    </tr>\n",
       "    <tr>\n",
       "      <th>6</th>\n",
       "      <td>DirichletLM # terms = 20, # docs = 3</td>\n",
       "      <td>0.159990</td>\n",
       "      <td>0.186611</td>\n",
       "      <td>0.048427</td>\n",
       "      <td>0.030087</td>\n",
       "      <td>0.018490</td>\n",
       "      <td>0.242134</td>\n",
       "      <td>0.300869</td>\n",
       "      <td>0.369793</td>\n",
       "      <td>690.003881</td>\n",
       "    </tr>\n",
       "    <tr>\n",
       "      <th>7</th>\n",
       "      <td>DirichletLM # terms = 20, # docs = 6</td>\n",
       "      <td>0.124530</td>\n",
       "      <td>0.151476</td>\n",
       "      <td>0.039616</td>\n",
       "      <td>0.027360</td>\n",
       "      <td>0.017576</td>\n",
       "      <td>0.198082</td>\n",
       "      <td>0.273599</td>\n",
       "      <td>0.351513</td>\n",
       "      <td>575.864557</td>\n",
       "    </tr>\n",
       "  </tbody>\n",
       "</table>\n",
       "</div>"
      ],
      "text/plain": [
       "                                   name  recip_rank  ndcg_cut_10       P_5  \\\n",
       "0         BM25 # terms = 10, # docs = 3    0.220958     0.269379  0.070363   \n",
       "1         BM25 # terms = 10, # docs = 6    0.213200     0.261296  0.067306   \n",
       "2         BM25 # terms = 20, # docs = 3    0.221073     0.270864  0.071561   \n",
       "3         BM25 # terms = 20, # docs = 6    0.215348     0.264184  0.068984   \n",
       "4  DirichletLM # terms = 10, # docs = 3    0.159053     0.188550  0.048367   \n",
       "5  DirichletLM # terms = 10, # docs = 6    0.131249     0.160915  0.042134   \n",
       "6  DirichletLM # terms = 20, # docs = 3    0.159990     0.186611  0.048427   \n",
       "7  DirichletLM # terms = 20, # docs = 6    0.124530     0.151476  0.039616   \n",
       "\n",
       "       P_10      P_20  recall_5  recall_10  recall_20         mrt  \n",
       "0  0.046689  0.028738  0.351813   0.466886   0.574768  436.921041  \n",
       "1  0.046089  0.028634  0.336530   0.460893   0.572670  451.790328  \n",
       "2  0.047258  0.029038  0.357806   0.472580   0.580761  553.687203  \n",
       "3  0.046599  0.028963  0.344921   0.465987   0.579263  568.699249  \n",
       "4  0.031585  0.019299  0.241834   0.315853   0.385975  554.882472  \n",
       "5  0.029368  0.018475  0.210668   0.293677   0.369494  554.449741  \n",
       "6  0.030087  0.018490  0.242134   0.300869   0.369793  690.003881  \n",
       "7  0.027360  0.017576  0.198082   0.273599   0.351513  575.864557  "
      ]
     },
     "execution_count": 39,
     "metadata": {},
     "output_type": "execute_result"
    }
   ],
   "source": [
    "# train 1\n",
    "pt.Experiment([rm3_bm25_1, rm3_bm25_2, rm3_bm25_3, rm3_bm25_4, rm3_lm_1, rm3_lm_2, rm3_lm_3, rm3_lm_4],\n",
    "            train_1,\n",
    "            qrels,\n",
    "            names = ['BM25 # terms = 10, # docs = 3','BM25 # terms = 10, # docs = 6','BM25 # terms = 20, # docs = 3','BM25 # terms = 20, # docs = 6','DirichletLM # terms = 10, # docs = 3','DirichletLM # terms = 10, # docs = 6','DirichletLM # terms = 20, # docs = 3','DirichletLM # terms = 20, # docs = 6'],\n",
    "            eval_metrics= metrics_list,\n",
    "            verbose = True\n",
    ")"
   ]
  },
  {
   "cell_type": "code",
   "execution_count": 19,
   "metadata": {},
   "outputs": [
    {
     "name": "stderr",
     "output_type": "stream",
     "text": [
      "pt.Experiment: 100%|██████████| 8/8 [3:43:46<00:00, 1678.37s/system]  \n"
     ]
    },
    {
     "data": {
      "text/html": [
       "<div>\n",
       "<style scoped>\n",
       "    .dataframe tbody tr th:only-of-type {\n",
       "        vertical-align: middle;\n",
       "    }\n",
       "\n",
       "    .dataframe tbody tr th {\n",
       "        vertical-align: top;\n",
       "    }\n",
       "\n",
       "    .dataframe thead th {\n",
       "        text-align: right;\n",
       "    }\n",
       "</style>\n",
       "<table border=\"1\" class=\"dataframe\">\n",
       "  <thead>\n",
       "    <tr style=\"text-align: right;\">\n",
       "      <th></th>\n",
       "      <th>name</th>\n",
       "      <th>recip_rank</th>\n",
       "      <th>ndcg_cut_10</th>\n",
       "      <th>P_5</th>\n",
       "      <th>P_10</th>\n",
       "      <th>P_20</th>\n",
       "      <th>recall_5</th>\n",
       "      <th>recall_10</th>\n",
       "      <th>recall_20</th>\n",
       "      <th>mrt</th>\n",
       "    </tr>\n",
       "  </thead>\n",
       "  <tbody>\n",
       "    <tr>\n",
       "      <th>0</th>\n",
       "      <td>BM25 # terms = 10, # docs = 3</td>\n",
       "      <td>0.219410</td>\n",
       "      <td>0.267889</td>\n",
       "      <td>0.071068</td>\n",
       "      <td>0.046489</td>\n",
       "      <td>0.028571</td>\n",
       "      <td>0.355342</td>\n",
       "      <td>0.464886</td>\n",
       "      <td>0.571429</td>\n",
       "      <td>419.228943</td>\n",
       "    </tr>\n",
       "    <tr>\n",
       "      <th>1</th>\n",
       "      <td>BM25 # terms = 10, # docs = 6</td>\n",
       "      <td>0.211276</td>\n",
       "      <td>0.260293</td>\n",
       "      <td>0.067107</td>\n",
       "      <td>0.046158</td>\n",
       "      <td>0.028391</td>\n",
       "      <td>0.335534</td>\n",
       "      <td>0.461585</td>\n",
       "      <td>0.567827</td>\n",
       "      <td>424.223787</td>\n",
       "    </tr>\n",
       "    <tr>\n",
       "      <th>2</th>\n",
       "      <td>BM25 # terms = 20, # docs = 3</td>\n",
       "      <td>0.221285</td>\n",
       "      <td>0.270679</td>\n",
       "      <td>0.072809</td>\n",
       "      <td>0.046969</td>\n",
       "      <td>0.028767</td>\n",
       "      <td>0.364046</td>\n",
       "      <td>0.469688</td>\n",
       "      <td>0.575330</td>\n",
       "      <td>509.720224</td>\n",
       "    </tr>\n",
       "    <tr>\n",
       "      <th>3</th>\n",
       "      <td>BM25 # terms = 20, # docs = 6</td>\n",
       "      <td>0.213276</td>\n",
       "      <td>0.263154</td>\n",
       "      <td>0.068247</td>\n",
       "      <td>0.046669</td>\n",
       "      <td>0.028511</td>\n",
       "      <td>0.341236</td>\n",
       "      <td>0.466687</td>\n",
       "      <td>0.570228</td>\n",
       "      <td>525.629219</td>\n",
       "    </tr>\n",
       "    <tr>\n",
       "      <th>4</th>\n",
       "      <td>DirichletLM # terms = 10, # docs = 3</td>\n",
       "      <td>0.159915</td>\n",
       "      <td>0.188964</td>\n",
       "      <td>0.048860</td>\n",
       "      <td>0.031423</td>\n",
       "      <td>0.019043</td>\n",
       "      <td>0.244298</td>\n",
       "      <td>0.314226</td>\n",
       "      <td>0.380852</td>\n",
       "      <td>464.495110</td>\n",
       "    </tr>\n",
       "    <tr>\n",
       "      <th>5</th>\n",
       "      <td>DirichletLM # terms = 10, # docs = 6</td>\n",
       "      <td>0.132106</td>\n",
       "      <td>0.160116</td>\n",
       "      <td>0.042137</td>\n",
       "      <td>0.028842</td>\n",
       "      <td>0.018412</td>\n",
       "      <td>0.210684</td>\n",
       "      <td>0.288415</td>\n",
       "      <td>0.368247</td>\n",
       "      <td>478.652451</td>\n",
       "    </tr>\n",
       "    <tr>\n",
       "      <th>6</th>\n",
       "      <td>DirichletLM # terms = 20, # docs = 3</td>\n",
       "      <td>0.163669</td>\n",
       "      <td>0.192630</td>\n",
       "      <td>0.050240</td>\n",
       "      <td>0.031212</td>\n",
       "      <td>0.018562</td>\n",
       "      <td>0.251200</td>\n",
       "      <td>0.312125</td>\n",
       "      <td>0.371248</td>\n",
       "      <td>586.926330</td>\n",
       "    </tr>\n",
       "    <tr>\n",
       "      <th>7</th>\n",
       "      <td>DirichletLM # terms = 20, # docs = 6</td>\n",
       "      <td>0.129324</td>\n",
       "      <td>0.156416</td>\n",
       "      <td>0.039616</td>\n",
       "      <td>0.027971</td>\n",
       "      <td>0.018037</td>\n",
       "      <td>0.198079</td>\n",
       "      <td>0.279712</td>\n",
       "      <td>0.360744</td>\n",
       "      <td>604.255735</td>\n",
       "    </tr>\n",
       "  </tbody>\n",
       "</table>\n",
       "</div>"
      ],
      "text/plain": [
       "                                   name  recip_rank  ndcg_cut_10       P_5  \\\n",
       "0         BM25 # terms = 10, # docs = 3    0.219410     0.267889  0.071068   \n",
       "1         BM25 # terms = 10, # docs = 6    0.211276     0.260293  0.067107   \n",
       "2         BM25 # terms = 20, # docs = 3    0.221285     0.270679  0.072809   \n",
       "3         BM25 # terms = 20, # docs = 6    0.213276     0.263154  0.068247   \n",
       "4  DirichletLM # terms = 10, # docs = 3    0.159915     0.188964  0.048860   \n",
       "5  DirichletLM # terms = 10, # docs = 6    0.132106     0.160116  0.042137   \n",
       "6  DirichletLM # terms = 20, # docs = 3    0.163669     0.192630  0.050240   \n",
       "7  DirichletLM # terms = 20, # docs = 6    0.129324     0.156416  0.039616   \n",
       "\n",
       "       P_10      P_20  recall_5  recall_10  recall_20         mrt  \n",
       "0  0.046489  0.028571  0.355342   0.464886   0.571429  419.228943  \n",
       "1  0.046158  0.028391  0.335534   0.461585   0.567827  424.223787  \n",
       "2  0.046969  0.028767  0.364046   0.469688   0.575330  509.720224  \n",
       "3  0.046669  0.028511  0.341236   0.466687   0.570228  525.629219  \n",
       "4  0.031423  0.019043  0.244298   0.314226   0.380852  464.495110  \n",
       "5  0.028842  0.018412  0.210684   0.288415   0.368247  478.652451  \n",
       "6  0.031212  0.018562  0.251200   0.312125   0.371248  586.926330  \n",
       "7  0.027971  0.018037  0.198079   0.279712   0.360744  604.255735  "
      ]
     },
     "execution_count": 19,
     "metadata": {},
     "output_type": "execute_result"
    }
   ],
   "source": [
    "# train 2\n",
    "pt.Experiment([rm3_bm25_1, rm3_bm25_2, rm3_bm25_3, rm3_bm25_4, rm3_lm_1, rm3_lm_2, rm3_lm_3, rm3_lm_4],\n",
    "            train_2,\n",
    "            qrels,\n",
    "            names = ['BM25 # terms = 10, # docs = 3','BM25 # terms = 10, # docs = 6','BM25 # terms = 20, # docs = 3','BM25 # terms = 20, # docs = 6','DirichletLM # terms = 10, # docs = 3','DirichletLM # terms = 10, # docs = 6','DirichletLM # terms = 20, # docs = 3','DirichletLM # terms = 20, # docs = 6'],\n",
    "            eval_metrics= metrics_list,\n",
    "            verbose = True\n",
    ")"
   ]
  },
  {
   "cell_type": "code",
   "execution_count": 40,
   "metadata": {},
   "outputs": [
    {
     "name": "stderr",
     "output_type": "stream",
     "text": [
      "pt.Experiment: 100%|██████████| 8/8 [3:39:16<00:00, 1644.60s/system]  \n"
     ]
    },
    {
     "data": {
      "text/html": [
       "<div>\n",
       "<style scoped>\n",
       "    .dataframe tbody tr th:only-of-type {\n",
       "        vertical-align: middle;\n",
       "    }\n",
       "\n",
       "    .dataframe tbody tr th {\n",
       "        vertical-align: top;\n",
       "    }\n",
       "\n",
       "    .dataframe thead th {\n",
       "        text-align: right;\n",
       "    }\n",
       "</style>\n",
       "<table border=\"1\" class=\"dataframe\">\n",
       "  <thead>\n",
       "    <tr style=\"text-align: right;\">\n",
       "      <th></th>\n",
       "      <th>name</th>\n",
       "      <th>recip_rank</th>\n",
       "      <th>ndcg_cut_10</th>\n",
       "      <th>P_5</th>\n",
       "      <th>P_10</th>\n",
       "      <th>P_20</th>\n",
       "      <th>recall_5</th>\n",
       "      <th>recall_10</th>\n",
       "      <th>recall_20</th>\n",
       "      <th>mrt</th>\n",
       "    </tr>\n",
       "  </thead>\n",
       "  <tbody>\n",
       "    <tr>\n",
       "      <th>0</th>\n",
       "      <td>BM25 # terms = 10, # docs = 3</td>\n",
       "      <td>0.221395</td>\n",
       "      <td>0.267278</td>\n",
       "      <td>0.069889</td>\n",
       "      <td>0.045722</td>\n",
       "      <td>0.028190</td>\n",
       "      <td>0.349445</td>\n",
       "      <td>0.457220</td>\n",
       "      <td>0.563795</td>\n",
       "      <td>415.155095</td>\n",
       "    </tr>\n",
       "    <tr>\n",
       "      <th>1</th>\n",
       "      <td>BM25 # terms = 10, # docs = 6</td>\n",
       "      <td>0.210916</td>\n",
       "      <td>0.259486</td>\n",
       "      <td>0.066707</td>\n",
       "      <td>0.045932</td>\n",
       "      <td>0.028415</td>\n",
       "      <td>0.333533</td>\n",
       "      <td>0.459322</td>\n",
       "      <td>0.568298</td>\n",
       "      <td>428.266694</td>\n",
       "    </tr>\n",
       "    <tr>\n",
       "      <th>2</th>\n",
       "      <td>BM25 # terms = 20, # docs = 3</td>\n",
       "      <td>0.221955</td>\n",
       "      <td>0.269843</td>\n",
       "      <td>0.071150</td>\n",
       "      <td>0.046533</td>\n",
       "      <td>0.028595</td>\n",
       "      <td>0.355749</td>\n",
       "      <td>0.465326</td>\n",
       "      <td>0.571900</td>\n",
       "      <td>523.236761</td>\n",
       "    </tr>\n",
       "    <tr>\n",
       "      <th>3</th>\n",
       "      <td>BM25 # terms = 20, # docs = 6</td>\n",
       "      <td>0.214144</td>\n",
       "      <td>0.263318</td>\n",
       "      <td>0.067727</td>\n",
       "      <td>0.046473</td>\n",
       "      <td>0.028385</td>\n",
       "      <td>0.338637</td>\n",
       "      <td>0.464725</td>\n",
       "      <td>0.567697</td>\n",
       "      <td>536.940064</td>\n",
       "    </tr>\n",
       "    <tr>\n",
       "      <th>4</th>\n",
       "      <td>DirichletLM # terms = 10, # docs = 3</td>\n",
       "      <td>0.158668</td>\n",
       "      <td>0.187294</td>\n",
       "      <td>0.047493</td>\n",
       "      <td>0.031192</td>\n",
       "      <td>0.019018</td>\n",
       "      <td>0.237466</td>\n",
       "      <td>0.311918</td>\n",
       "      <td>0.380366</td>\n",
       "      <td>443.173567</td>\n",
       "    </tr>\n",
       "    <tr>\n",
       "      <th>5</th>\n",
       "      <td>DirichletLM # terms = 10, # docs = 6</td>\n",
       "      <td>0.131480</td>\n",
       "      <td>0.160634</td>\n",
       "      <td>0.041369</td>\n",
       "      <td>0.029270</td>\n",
       "      <td>0.018403</td>\n",
       "      <td>0.206845</td>\n",
       "      <td>0.292705</td>\n",
       "      <td>0.368058</td>\n",
       "      <td>456.983707</td>\n",
       "    </tr>\n",
       "    <tr>\n",
       "      <th>6</th>\n",
       "      <td>DirichletLM # terms = 20, # docs = 3</td>\n",
       "      <td>0.159326</td>\n",
       "      <td>0.186338</td>\n",
       "      <td>0.048094</td>\n",
       "      <td>0.030111</td>\n",
       "      <td>0.018148</td>\n",
       "      <td>0.240468</td>\n",
       "      <td>0.301111</td>\n",
       "      <td>0.362954</td>\n",
       "      <td>556.727788</td>\n",
       "    </tr>\n",
       "    <tr>\n",
       "      <th>7</th>\n",
       "      <td>DirichletLM # terms = 20, # docs = 6</td>\n",
       "      <td>0.124721</td>\n",
       "      <td>0.151672</td>\n",
       "      <td>0.038847</td>\n",
       "      <td>0.027589</td>\n",
       "      <td>0.018058</td>\n",
       "      <td>0.194236</td>\n",
       "      <td>0.275893</td>\n",
       "      <td>0.361153</td>\n",
       "      <td>573.599366</td>\n",
       "    </tr>\n",
       "  </tbody>\n",
       "</table>\n",
       "</div>"
      ],
      "text/plain": [
       "                                   name  recip_rank  ndcg_cut_10       P_5  \\\n",
       "0         BM25 # terms = 10, # docs = 3    0.221395     0.267278  0.069889   \n",
       "1         BM25 # terms = 10, # docs = 6    0.210916     0.259486  0.066707   \n",
       "2         BM25 # terms = 20, # docs = 3    0.221955     0.269843  0.071150   \n",
       "3         BM25 # terms = 20, # docs = 6    0.214144     0.263318  0.067727   \n",
       "4  DirichletLM # terms = 10, # docs = 3    0.158668     0.187294  0.047493   \n",
       "5  DirichletLM # terms = 10, # docs = 6    0.131480     0.160634  0.041369   \n",
       "6  DirichletLM # terms = 20, # docs = 3    0.159326     0.186338  0.048094   \n",
       "7  DirichletLM # terms = 20, # docs = 6    0.124721     0.151672  0.038847   \n",
       "\n",
       "       P_10      P_20  recall_5  recall_10  recall_20         mrt  \n",
       "0  0.045722  0.028190  0.349445   0.457220   0.563795  415.155095  \n",
       "1  0.045932  0.028415  0.333533   0.459322   0.568298  428.266694  \n",
       "2  0.046533  0.028595  0.355749   0.465326   0.571900  523.236761  \n",
       "3  0.046473  0.028385  0.338637   0.464725   0.567697  536.940064  \n",
       "4  0.031192  0.019018  0.237466   0.311918   0.380366  443.173567  \n",
       "5  0.029270  0.018403  0.206845   0.292705   0.368058  456.983707  \n",
       "6  0.030111  0.018148  0.240468   0.301111   0.362954  556.727788  \n",
       "7  0.027589  0.018058  0.194236   0.275893   0.361153  573.599366  "
      ]
     },
     "execution_count": 40,
     "metadata": {},
     "output_type": "execute_result"
    }
   ],
   "source": [
    "# train 3\n",
    "pt.Experiment([rm3_bm25_1, rm3_bm25_2, rm3_bm25_3, rm3_bm25_4, rm3_lm_1, rm3_lm_2, rm3_lm_3, rm3_lm_4],\n",
    "            train_3,\n",
    "            qrels,\n",
    "            names = ['BM25 # terms = 10, # docs = 3','BM25 # terms = 10, # docs = 6','BM25 # terms = 20, # docs = 3','BM25 # terms = 20, # docs = 6','DirichletLM # terms = 10, # docs = 3','DirichletLM # terms = 10, # docs = 6','DirichletLM # terms = 20, # docs = 3','DirichletLM # terms = 20, # docs = 6'],\n",
    "            eval_metrics= metrics_list,\n",
    "            verbose = True\n",
    ")"
   ]
  },
  {
   "cell_type": "code",
   "execution_count": 20,
   "metadata": {},
   "outputs": [
    {
     "name": "stderr",
     "output_type": "stream",
     "text": [
      "pt.Experiment: 100%|██████████| 2/2 [23:42<00:00, 711.46s/system]\n"
     ]
    },
    {
     "data": {
      "text/html": [
       "<div>\n",
       "<style scoped>\n",
       "    .dataframe tbody tr th:only-of-type {\n",
       "        vertical-align: middle;\n",
       "    }\n",
       "\n",
       "    .dataframe tbody tr th {\n",
       "        vertical-align: top;\n",
       "    }\n",
       "\n",
       "    .dataframe thead th {\n",
       "        text-align: right;\n",
       "    }\n",
       "</style>\n",
       "<table border=\"1\" class=\"dataframe\">\n",
       "  <thead>\n",
       "    <tr style=\"text-align: right;\">\n",
       "      <th></th>\n",
       "      <th>name</th>\n",
       "      <th>recip_rank</th>\n",
       "      <th>ndcg_cut_10</th>\n",
       "      <th>P_5</th>\n",
       "      <th>P_10</th>\n",
       "      <th>P_20</th>\n",
       "      <th>recall_5</th>\n",
       "      <th>recall_10</th>\n",
       "      <th>recall_20</th>\n",
       "      <th>mrt</th>\n",
       "    </tr>\n",
       "  </thead>\n",
       "  <tbody>\n",
       "    <tr>\n",
       "      <th>0</th>\n",
       "      <td>BM25 # terms = 20, # docs = 3</td>\n",
       "      <td>0.222169</td>\n",
       "      <td>0.269657</td>\n",
       "      <td>0.072399</td>\n",
       "      <td>0.046242</td>\n",
       "      <td>0.028322</td>\n",
       "      <td>0.361996</td>\n",
       "      <td>0.462417</td>\n",
       "      <td>0.566446</td>\n",
       "      <td>474.409835</td>\n",
       "    </tr>\n",
       "    <tr>\n",
       "      <th>1</th>\n",
       "      <td>DirichletLM # terms = 10, # docs = 3</td>\n",
       "      <td>0.159530</td>\n",
       "      <td>0.187707</td>\n",
       "      <td>0.047986</td>\n",
       "      <td>0.031028</td>\n",
       "      <td>0.018761</td>\n",
       "      <td>0.239928</td>\n",
       "      <td>0.310283</td>\n",
       "      <td>0.375225</td>\n",
       "      <td>377.127541</td>\n",
       "    </tr>\n",
       "  </tbody>\n",
       "</table>\n",
       "</div>"
      ],
      "text/plain": [
       "                                   name  recip_rank  ndcg_cut_10       P_5  \\\n",
       "0         BM25 # terms = 20, # docs = 3    0.222169     0.269657  0.072399   \n",
       "1  DirichletLM # terms = 10, # docs = 3    0.159530     0.187707  0.047986   \n",
       "\n",
       "       P_10      P_20  recall_5  recall_10  recall_20         mrt  \n",
       "0  0.046242  0.028322  0.361996   0.462417   0.566446  474.409835  \n",
       "1  0.031028  0.018761  0.239928   0.310283   0.375225  377.127541  "
      ]
     },
     "execution_count": 20,
     "metadata": {},
     "output_type": "execute_result"
    }
   ],
   "source": [
    "#val 1\n",
    "pt.Experiment([rm3_bm25_3,rm3_lm_1],\n",
    "              val_1,\n",
    "              qrels,\n",
    "              names = ['BM25 # terms = 20, # docs = 3','DirichletLM # terms = 10, # docs = 3'],\n",
    "              eval_metrics= metrics_list,\n",
    "            verbose = True\n",
    "            )"
   ]
  },
  {
   "cell_type": "code",
   "execution_count": 21,
   "metadata": {},
   "outputs": [
    {
     "name": "stderr",
     "output_type": "stream",
     "text": [
      "pt.Experiment: 100%|██████████| 2/2 [26:43<00:00, 801.90s/system]\n"
     ]
    },
    {
     "data": {
      "text/html": [
       "<div>\n",
       "<style scoped>\n",
       "    .dataframe tbody tr th:only-of-type {\n",
       "        vertical-align: middle;\n",
       "    }\n",
       "\n",
       "    .dataframe tbody tr th {\n",
       "        vertical-align: top;\n",
       "    }\n",
       "\n",
       "    .dataframe thead th {\n",
       "        text-align: right;\n",
       "    }\n",
       "</style>\n",
       "<table border=\"1\" class=\"dataframe\">\n",
       "  <thead>\n",
       "    <tr style=\"text-align: right;\">\n",
       "      <th></th>\n",
       "      <th>name</th>\n",
       "      <th>recip_rank</th>\n",
       "      <th>ndcg_cut_10</th>\n",
       "      <th>P_5</th>\n",
       "      <th>P_10</th>\n",
       "      <th>P_20</th>\n",
       "      <th>recall_5</th>\n",
       "      <th>recall_10</th>\n",
       "      <th>recall_20</th>\n",
       "      <th>mrt</th>\n",
       "    </tr>\n",
       "  </thead>\n",
       "  <tbody>\n",
       "    <tr>\n",
       "      <th>0</th>\n",
       "      <td>BM25 # terms = 20, # docs = 3</td>\n",
       "      <td>0.221742</td>\n",
       "      <td>0.270029</td>\n",
       "      <td>0.069904</td>\n",
       "      <td>0.046823</td>\n",
       "      <td>0.028867</td>\n",
       "      <td>0.349520</td>\n",
       "      <td>0.468225</td>\n",
       "      <td>0.577338</td>\n",
       "      <td>463.786620</td>\n",
       "    </tr>\n",
       "    <tr>\n",
       "      <th>1</th>\n",
       "      <td>DirichletLM # terms = 20, # docs = 3</td>\n",
       "      <td>0.155634</td>\n",
       "      <td>0.180227</td>\n",
       "      <td>0.046283</td>\n",
       "      <td>0.028957</td>\n",
       "      <td>0.018076</td>\n",
       "      <td>0.231415</td>\n",
       "      <td>0.289568</td>\n",
       "      <td>0.361511</td>\n",
       "      <td>493.677566</td>\n",
       "    </tr>\n",
       "  </tbody>\n",
       "</table>\n",
       "</div>"
      ],
      "text/plain": [
       "                                   name  recip_rank  ndcg_cut_10       P_5  \\\n",
       "0         BM25 # terms = 20, # docs = 3    0.221742     0.270029  0.069904   \n",
       "1  DirichletLM # terms = 20, # docs = 3    0.155634     0.180227  0.046283   \n",
       "\n",
       "       P_10      P_20  recall_5  recall_10  recall_20         mrt  \n",
       "0  0.046823  0.028867  0.349520   0.468225   0.577338  463.786620  \n",
       "1  0.028957  0.018076  0.231415   0.289568   0.361511  493.677566  "
      ]
     },
     "execution_count": 21,
     "metadata": {},
     "output_type": "execute_result"
    }
   ],
   "source": [
    "#val 2\n",
    "pt.Experiment([rm3_bm25_3,rm3_lm_3],\n",
    "              val_2,\n",
    "              qrels,\n",
    "              names = ['BM25 # terms = 20, # docs = 3','DirichletLM # terms = 20, # docs = 3'],\n",
    "              eval_metrics= metrics_list,\n",
    "            verbose = True\n",
    "            )"
   ]
  },
  {
   "cell_type": "code",
   "execution_count": 201,
   "metadata": {},
   "outputs": [
    {
     "name": "stderr",
     "output_type": "stream",
     "text": [
      "pt.Experiment: 100%|██████████| 2/2 [1:51:16<00:00, 3338.26s/system]  \n"
     ]
    },
    {
     "data": {
      "text/html": [
       "<div>\n",
       "<style scoped>\n",
       "    .dataframe tbody tr th:only-of-type {\n",
       "        vertical-align: middle;\n",
       "    }\n",
       "\n",
       "    .dataframe tbody tr th {\n",
       "        vertical-align: top;\n",
       "    }\n",
       "\n",
       "    .dataframe thead th {\n",
       "        text-align: right;\n",
       "    }\n",
       "</style>\n",
       "<table border=\"1\" class=\"dataframe\">\n",
       "  <thead>\n",
       "    <tr style=\"text-align: right;\">\n",
       "      <th></th>\n",
       "      <th>name</th>\n",
       "      <th>recip_rank</th>\n",
       "      <th>ndcg_cut_10</th>\n",
       "      <th>P_5</th>\n",
       "      <th>P_10</th>\n",
       "      <th>P_20</th>\n",
       "      <th>recall_5</th>\n",
       "      <th>recall_10</th>\n",
       "      <th>recall_20</th>\n",
       "      <th>mrt</th>\n",
       "    </tr>\n",
       "  </thead>\n",
       "  <tbody>\n",
       "    <tr>\n",
       "      <th>0</th>\n",
       "      <td>BM25 # terms = 20, # docs = 3</td>\n",
       "      <td>0.221437</td>\n",
       "      <td>0.270462</td>\n",
       "      <td>0.07184</td>\n",
       "      <td>0.04692</td>\n",
       "      <td>0.02880</td>\n",
       "      <td>0.3592</td>\n",
       "      <td>0.4692</td>\n",
       "      <td>0.5760</td>\n",
       "      <td>733.155624</td>\n",
       "    </tr>\n",
       "    <tr>\n",
       "      <th>1</th>\n",
       "      <td>DirichletLM # terms = 10, # docs = 3</td>\n",
       "      <td>0.159212</td>\n",
       "      <td>0.188270</td>\n",
       "      <td>0.04824</td>\n",
       "      <td>0.03140</td>\n",
       "      <td>0.01912</td>\n",
       "      <td>0.2412</td>\n",
       "      <td>0.3140</td>\n",
       "      <td>0.3824</td>\n",
       "      <td>598.116852</td>\n",
       "    </tr>\n",
       "  </tbody>\n",
       "</table>\n",
       "</div>"
      ],
      "text/plain": [
       "                                   name  recip_rank  ndcg_cut_10      P_5  \\\n",
       "0         BM25 # terms = 20, # docs = 3    0.221437     0.270462  0.07184   \n",
       "1  DirichletLM # terms = 10, # docs = 3    0.159212     0.188270  0.04824   \n",
       "\n",
       "      P_10     P_20  recall_5  recall_10  recall_20         mrt  \n",
       "0  0.04692  0.02880    0.3592     0.4692     0.5760  733.155624  \n",
       "1  0.03140  0.01912    0.2412     0.3140     0.3824  598.116852  "
      ]
     },
     "execution_count": 201,
     "metadata": {},
     "output_type": "execute_result"
    }
   ],
   "source": [
    "#val 3\n",
    "pt.Experiment([rm3_bm25_3,rm3_lm_1],\n",
    "              queries,\n",
    "              qrels,\n",
    "              names = ['BM25 # terms = 20, # docs = 3','DirichletLM # terms = 10, # docs = 3'],\n",
    "              eval_metrics= metrics_list,\n",
    "            verbose = True\n",
    "            )"
   ]
  },
  {
   "attachments": {},
   "cell_type": "markdown",
   "metadata": {},
   "source": [
    "Best BM25 rm3 model = #term 20, # docs = 3, b = 0.75, k1 = 1.5\n",
    "Best DLM rm3 model = #term 10, # docs = 3, u = 400"
   ]
  },
  {
   "attachments": {},
   "cell_type": "markdown",
   "metadata": {},
   "source": [
    "Words Embeddings for Query Expansions"
   ]
  },
  {
   "cell_type": "code",
   "execution_count": 11,
   "metadata": {},
   "outputs": [
    {
     "data": {
      "text/html": [
       "<div>\n",
       "<style scoped>\n",
       "    .dataframe tbody tr th:only-of-type {\n",
       "        vertical-align: middle;\n",
       "    }\n",
       "\n",
       "    .dataframe tbody tr th {\n",
       "        vertical-align: top;\n",
       "    }\n",
       "\n",
       "    .dataframe thead th {\n",
       "        text-align: right;\n",
       "    }\n",
       "</style>\n",
       "<table border=\"1\" class=\"dataframe\">\n",
       "  <thead>\n",
       "    <tr style=\"text-align: right;\">\n",
       "      <th></th>\n",
       "      <th>qid</th>\n",
       "      <th>text</th>\n",
       "    </tr>\n",
       "  </thead>\n",
       "  <tbody>\n",
       "    <tr>\n",
       "      <th>224</th>\n",
       "      <td>724592</td>\n",
       "      <td>what is blains</td>\n",
       "    </tr>\n",
       "    <tr>\n",
       "      <th>230</th>\n",
       "      <td>754337</td>\n",
       "      <td>what is hecate</td>\n",
       "    </tr>\n",
       "    <tr>\n",
       "      <th>248</th>\n",
       "      <td>412886</td>\n",
       "      <td>is ilovemakonnen ovo</td>\n",
       "    </tr>\n",
       "    <tr>\n",
       "      <th>361</th>\n",
       "      <td>736493</td>\n",
       "      <td>what is cubicin antibiotic for</td>\n",
       "    </tr>\n",
       "    <tr>\n",
       "      <th>428</th>\n",
       "      <td>681529</td>\n",
       "      <td>what is a disease that affects the legs</td>\n",
       "    </tr>\n",
       "    <tr>\n",
       "      <th>...</th>\n",
       "      <td>...</td>\n",
       "      <td>...</td>\n",
       "    </tr>\n",
       "    <tr>\n",
       "      <th>366797</th>\n",
       "      <td>604057</td>\n",
       "      <td>what county is cedar michigan in</td>\n",
       "    </tr>\n",
       "    <tr>\n",
       "      <th>366818</th>\n",
       "      <td>553634</td>\n",
       "      <td>what animal eats bamboo shoot</td>\n",
       "    </tr>\n",
       "    <tr>\n",
       "      <th>366892</th>\n",
       "      <td>617635</td>\n",
       "      <td>what degree do you need to work at a zoo</td>\n",
       "    </tr>\n",
       "    <tr>\n",
       "      <th>366971</th>\n",
       "      <td>479282</td>\n",
       "      <td>pre ejaculatory fluid definition</td>\n",
       "    </tr>\n",
       "    <tr>\n",
       "      <th>367011</th>\n",
       "      <td>706678</td>\n",
       "      <td>what is a yowie</td>\n",
       "    </tr>\n",
       "  </tbody>\n",
       "</table>\n",
       "<p>5000 rows × 2 columns</p>\n",
       "</div>"
      ],
      "text/plain": [
       "           qid                                      text\n",
       "224     724592                            what is blains\n",
       "230     754337                            what is hecate\n",
       "248     412886                      is ilovemakonnen ovo\n",
       "361     736493            what is cubicin antibiotic for\n",
       "428     681529   what is a disease that affects the legs\n",
       "...        ...                                       ...\n",
       "366797  604057          what county is cedar michigan in\n",
       "366818  553634             what animal eats bamboo shoot\n",
       "366892  617635  what degree do you need to work at a zoo\n",
       "366971  479282          pre ejaculatory fluid definition\n",
       "367011  706678                           what is a yowie\n",
       "\n",
       "[5000 rows x 2 columns]"
      ]
     },
     "execution_count": 11,
     "metadata": {},
     "output_type": "execute_result"
    }
   ],
   "source": [
    "queries_we= queries.copy()\n",
    "#drop group\n",
    "queries_we = queries_we.drop(['group'], axis=1)\n",
    "\n",
    "queries_we = queries_we.rename(columns={'query' : 'text'})\n",
    "queries_we"
   ]
  },
  {
   "cell_type": "code",
   "execution_count": 111,
   "metadata": {},
   "outputs": [],
   "source": [
    "doc2query = pyterrier_doc2query.Doc2Query() # append generated queries to the orignal document text\n",
    "querygen = doc2query.transform(queries_we)\n",
    "#save the file\n",
    "querygen.to_csv('queries_we.csv', index=False)"
   ]
  },
  {
   "cell_type": "code",
   "execution_count": 192,
   "metadata": {},
   "outputs": [
    {
     "data": {
      "text/html": [
       "<div>\n",
       "<style scoped>\n",
       "    .dataframe tbody tr th:only-of-type {\n",
       "        vertical-align: middle;\n",
       "    }\n",
       "\n",
       "    .dataframe tbody tr th {\n",
       "        vertical-align: top;\n",
       "    }\n",
       "\n",
       "    .dataframe thead th {\n",
       "        text-align: right;\n",
       "    }\n",
       "</style>\n",
       "<table border=\"1\" class=\"dataframe\">\n",
       "  <thead>\n",
       "    <tr style=\"text-align: right;\">\n",
       "      <th></th>\n",
       "      <th>qid</th>\n",
       "      <th>query</th>\n",
       "    </tr>\n",
       "  </thead>\n",
       "  <tbody>\n",
       "    <tr>\n",
       "      <th>224</th>\n",
       "      <td>724592</td>\n",
       "      <td>what is blains\\nwhat is blains?\\nwhat is blains</td>\n",
       "    </tr>\n",
       "    <tr>\n",
       "      <th>230</th>\n",
       "      <td>754337</td>\n",
       "      <td>hecate define\\nwhat is hecatecate\\nwhat is hecate</td>\n",
       "    </tr>\n",
       "    <tr>\n",
       "      <th>248</th>\n",
       "      <td>412886</td>\n",
       "      <td>ilovemakonnen is ovov\\nwhat is the genre of il...</td>\n",
       "    </tr>\n",
       "    <tr>\n",
       "      <th>361</th>\n",
       "      <td>736493</td>\n",
       "      <td>what is cubicin antibiotic for\\nwhat is cubici...</td>\n",
       "    </tr>\n",
       "    <tr>\n",
       "      <th>428</th>\n",
       "      <td>681529</td>\n",
       "      <td>disease or disease that can damage your legs\\n...</td>\n",
       "    </tr>\n",
       "    <tr>\n",
       "      <th>...</th>\n",
       "      <td>...</td>\n",
       "      <td>...</td>\n",
       "    </tr>\n",
       "    <tr>\n",
       "      <th>366797</th>\n",
       "      <td>604057</td>\n",
       "      <td>what county is cedar michigan in\\nwhat county ...</td>\n",
       "    </tr>\n",
       "    <tr>\n",
       "      <th>366818</th>\n",
       "      <td>553634</td>\n",
       "      <td>what animal eats bamboo\\nwhat animal eats bamb...</td>\n",
       "    </tr>\n",
       "    <tr>\n",
       "      <th>366892</th>\n",
       "      <td>617635</td>\n",
       "      <td>do you need a degree to work at a zoo\\nwhat de...</td>\n",
       "    </tr>\n",
       "    <tr>\n",
       "      <th>366971</th>\n",
       "      <td>479282</td>\n",
       "      <td>pre ejaculatory fluid definition\\nejaculatory ...</td>\n",
       "    </tr>\n",
       "    <tr>\n",
       "      <th>367011</th>\n",
       "      <td>706678</td>\n",
       "      <td>what is a yowie\\nwhat is the word for yowie\\nw...</td>\n",
       "    </tr>\n",
       "  </tbody>\n",
       "</table>\n",
       "<p>5000 rows × 2 columns</p>\n",
       "</div>"
      ],
      "text/plain": [
       "           qid                                              query\n",
       "224     724592    what is blains\\nwhat is blains?\\nwhat is blains\n",
       "230     754337  hecate define\\nwhat is hecatecate\\nwhat is hecate\n",
       "248     412886  ilovemakonnen is ovov\\nwhat is the genre of il...\n",
       "361     736493  what is cubicin antibiotic for\\nwhat is cubici...\n",
       "428     681529  disease or disease that can damage your legs\\n...\n",
       "...        ...                                                ...\n",
       "366797  604057  what county is cedar michigan in\\nwhat county ...\n",
       "366818  553634  what animal eats bamboo\\nwhat animal eats bamb...\n",
       "366892  617635  do you need a degree to work at a zoo\\nwhat de...\n",
       "366971  479282  pre ejaculatory fluid definition\\nejaculatory ...\n",
       "367011  706678  what is a yowie\\nwhat is the word for yowie\\nw...\n",
       "\n",
       "[5000 rows x 2 columns]"
      ]
     },
     "execution_count": 192,
     "metadata": {},
     "output_type": "execute_result"
    }
   ],
   "source": [
    "querygen2 = querygen.copy()\n",
    "#drop text and rename querygen to query\n",
    "querygen2 = querygen2.drop(['text'], axis=1)\n",
    "querygen2 = querygen2.rename(columns={'querygen' : 'query'})\n",
    "querygen2"
   ]
  },
  {
   "cell_type": "code",
   "execution_count": 194,
   "metadata": {},
   "outputs": [
    {
     "name": "stderr",
     "output_type": "stream",
     "text": [
      "C:\\Users\\giorg\\AppData\\Local\\Temp\\ipykernel_12972\\1761164047.py:3: SettingWithCopyWarning: \n",
      "A value is trying to be set on a copy of a slice from a DataFrame\n",
      "\n",
      "See the caveats in the documentation: https://pandas.pydata.org/pandas-docs/stable/user_guide/indexing.html#returning-a-view-versus-a-copy\n",
      "  querygen2['query'][i] = querygen2['query'][i].replace(u'\\u00A0', ' ')\n"
     ]
    }
   ],
   "source": [
    "for i in querygen2.index:\n",
    "    for character in \"!?'/:.*\":\n",
    "        querygen2['query'][i] = querygen2['query'][i].replace(u'\\u00A0', ' ')"
   ]
  },
  {
   "cell_type": "code",
   "execution_count": 197,
   "metadata": {},
   "outputs": [
    {
     "name": "stderr",
     "output_type": "stream",
     "text": [
      "C:\\Users\\giorg\\AppData\\Local\\Temp\\ipykernel_12972\\981554962.py:3: SettingWithCopyWarning: \n",
      "A value is trying to be set on a copy of a slice from a DataFrame\n",
      "\n",
      "See the caveats in the documentation: https://pandas.pydata.org/pandas-docs/stable/user_guide/indexing.html#returning-a-view-versus-a-copy\n",
      "  querygen2['query'][i] = querygen2['query'][i].replace(character, ' ')\n"
     ]
    }
   ],
   "source": [
    "for i in querygen2.index:\n",
    "    for character in \"!?'/:.*\":\n",
    "        querygen2['query'][i] = querygen2['query'][i].replace(character, ' ')"
   ]
  },
  {
   "cell_type": "code",
   "execution_count": 200,
   "metadata": {},
   "outputs": [],
   "source": [
    "#save querygen2 in csv file\n",
    "querygen2.to_csv(r\"C:\\Users\\giorg\\Desktop\\Project\\Word embedding\\query_wd2\", index=False)"
   ]
  },
  {
   "cell_type": "code",
   "execution_count": 198,
   "metadata": {},
   "outputs": [
    {
     "name": "stderr",
     "output_type": "stream",
     "text": [
      "pt.Experiment: 100%|██████████| 2/2 [26:47<00:00, 803.72s/system]\n"
     ]
    },
    {
     "data": {
      "text/html": [
       "<div>\n",
       "<style scoped>\n",
       "    .dataframe tbody tr th:only-of-type {\n",
       "        vertical-align: middle;\n",
       "    }\n",
       "\n",
       "    .dataframe tbody tr th {\n",
       "        vertical-align: top;\n",
       "    }\n",
       "\n",
       "    .dataframe thead th {\n",
       "        text-align: right;\n",
       "    }\n",
       "</style>\n",
       "<table border=\"1\" class=\"dataframe\">\n",
       "  <thead>\n",
       "    <tr style=\"text-align: right;\">\n",
       "      <th></th>\n",
       "      <th>name</th>\n",
       "      <th>recip_rank</th>\n",
       "      <th>ndcg_cut_10</th>\n",
       "      <th>P_5</th>\n",
       "      <th>P_10</th>\n",
       "      <th>P_20</th>\n",
       "      <th>recall_5</th>\n",
       "      <th>recall_10</th>\n",
       "      <th>recall_20</th>\n",
       "      <th>mrt</th>\n",
       "    </tr>\n",
       "  </thead>\n",
       "  <tbody>\n",
       "    <tr>\n",
       "      <th>0</th>\n",
       "      <td>BM25 with query expansion</td>\n",
       "      <td>0.225879</td>\n",
       "      <td>0.271094</td>\n",
       "      <td>0.06864</td>\n",
       "      <td>0.04572</td>\n",
       "      <td>0.02783</td>\n",
       "      <td>0.3432</td>\n",
       "      <td>0.4572</td>\n",
       "      <td>0.5566</td>\n",
       "      <td>154.623800</td>\n",
       "    </tr>\n",
       "    <tr>\n",
       "      <th>1</th>\n",
       "      <td>DirichletLM with query expansion</td>\n",
       "      <td>0.198140</td>\n",
       "      <td>0.235664</td>\n",
       "      <td>0.05888</td>\n",
       "      <td>0.03996</td>\n",
       "      <td>0.02503</td>\n",
       "      <td>0.2944</td>\n",
       "      <td>0.3996</td>\n",
       "      <td>0.5006</td>\n",
       "      <td>162.920994</td>\n",
       "    </tr>\n",
       "  </tbody>\n",
       "</table>\n",
       "</div>"
      ],
      "text/plain": [
       "                               name  recip_rank  ndcg_cut_10      P_5  \\\n",
       "0         BM25 with query expansion    0.225879     0.271094  0.06864   \n",
       "1  DirichletLM with query expansion    0.198140     0.235664  0.05888   \n",
       "\n",
       "      P_10     P_20  recall_5  recall_10  recall_20         mrt  \n",
       "0  0.04572  0.02783    0.3432     0.4572     0.5566  154.623800  \n",
       "1  0.03996  0.02503    0.2944     0.3996     0.5006  162.920994  "
      ]
     },
     "execution_count": 198,
     "metadata": {},
     "output_type": "execute_result"
    }
   ],
   "source": [
    "pt.Experiment([bm25_stem_stop_best,lm_stem_stop_best],\n",
    "              querygen2,\n",
    "              qrels,\n",
    "              names = ['BM25 with query expansion','DirichletLM with query expansion'],\n",
    "              eval_metrics= metrics_list,\n",
    "            verbose = True\n",
    "            )"
   ]
  },
  {
   "attachments": {},
   "cell_type": "markdown",
   "metadata": {},
   "source": [
    "Competition"
   ]
  },
  {
   "cell_type": "code",
   "execution_count": 99,
   "metadata": {},
   "outputs": [],
   "source": [
    "#load unseen queries tsv\n",
    "queries_unseen = pd.read_csv(r\"C:\\Users\\giorg\\Desktop\\Project\\msmarco-unseen-queries.tsv\", header = None, names = ['qid','query'], delimiter = '\\t')"
   ]
  },
  {
   "cell_type": "code",
   "execution_count": 14,
   "metadata": {},
   "outputs": [],
   "source": [
    "BM25_stop = pt.BatchRetrieve(index_stop, wmodel=\"BM25\", controls={\"bm25.b\" : 0.75,\"bm25.k_1\": 0.5})\n",
    "LM_stop = pt.BatchRetrieve(index_stop, wmodel=\"DirichletLM\", controls={\"dirichletlm.mu\" : 1141})\n",
    "bm25_stem_stop_best = pt.BatchRetrieve(index_stem_stop, wmodel=\"BM25\", controls={\"bm25.b\" : 0.75,\"bm25.k_1\": 1.5})\n",
    "lm_stem_stop_best = pt.BatchRetrieve(index_stem_stop, wmodel=\"DirichletLM\", controls={\"dirichletlm.mu\" : 400})"
   ]
  },
  {
   "cell_type": "code",
   "execution_count": 117,
   "metadata": {},
   "outputs": [],
   "source": [
    "#run transform on modes\n",
    "bm25_unseen = bm25_stem_stop_best.transform(queries_unseen)\n",
    "lm_unseeem = lm_stem_stop_best.transform(queries_unseen)\n",
    "bm25_unseen_2 = BM25_stop.transform(queries_unseen)\n",
    "lm_unseeem_2 = LM_stop.transform(queries_unseen)"
   ]
  },
  {
   "cell_type": "code",
   "execution_count": 62,
   "metadata": {},
   "outputs": [],
   "source": [
    "def write_run_file(results, run_name, output_path):\n",
    "    output_path = output_path + \".txt\"  # Add the .txt extension\n",
    "    with open(output_path, 'w') as f:\n",
    "        for _, row in results.iterrows():\n",
    "            qid = row[\"qid\"]\n",
    "            docno = row[\"docno\"]\n",
    "            rank = row[\"rank\"]\n",
    "            score = row[\"score\"]\n",
    "            f.write(f\"{qid} Q0 {docno} {rank} {score} {run_name}\\n\")"
   ]
  },
  {
   "cell_type": "code",
   "execution_count": 125,
   "metadata": {},
   "outputs": [],
   "source": [
    "write_run_file(bm25_unseen, 'gdi198RUN001', 'run1')\n",
    "write_run_file(lm_unseeem, 'gdi198RUN002', 'run2')\n",
    "write_run_file(bm25_unseen_2, 'gdi198RUN003', 'run3')\n",
    "write_run_file(lm_unseeem_2, 'gdi198RUN004', 'run4')"
   ]
  },
  {
   "attachments": {},
   "cell_type": "markdown",
   "metadata": {},
   "source": [
    "Reranking"
   ]
  },
  {
   "cell_type": "code",
   "execution_count": 15,
   "metadata": {},
   "outputs": [],
   "source": [
    "filename = r\"C:\\Users\\giorg\\.pyterrier\\corpora\\msmarco_document\\corpus\\msmarco-docs.trec.gz\""
   ]
  },
  {
   "cell_type": "code",
   "execution_count": 98,
   "metadata": {},
   "outputs": [],
   "source": [
    "from sentence_transformers import SentenceTransformer, util\n",
    "\n",
    "model = SentenceTransformer('sentence-transformers/msmarco-MiniLM-L6-cos-v5')\n",
    "# Retrieve the top-K documents using BM25\n",
    "K = 10\n",
    "topk_bm25 = bm25_stem_stop_best % K"
   ]
  },
  {
   "cell_type": "code",
   "execution_count": 99,
   "metadata": {},
   "outputs": [
    {
     "data": {
      "text/html": [
       "<div>\n",
       "<style scoped>\n",
       "    .dataframe tbody tr th:only-of-type {\n",
       "        vertical-align: middle;\n",
       "    }\n",
       "\n",
       "    .dataframe tbody tr th {\n",
       "        vertical-align: top;\n",
       "    }\n",
       "\n",
       "    .dataframe thead th {\n",
       "        text-align: right;\n",
       "    }\n",
       "</style>\n",
       "<table border=\"1\" class=\"dataframe\">\n",
       "  <thead>\n",
       "    <tr style=\"text-align: right;\">\n",
       "      <th></th>\n",
       "      <th>qid</th>\n",
       "      <th>query</th>\n",
       "    </tr>\n",
       "  </thead>\n",
       "  <tbody>\n",
       "    <tr>\n",
       "      <th>224</th>\n",
       "      <td>724592</td>\n",
       "      <td>what is blains</td>\n",
       "    </tr>\n",
       "    <tr>\n",
       "      <th>230</th>\n",
       "      <td>754337</td>\n",
       "      <td>what is hecate</td>\n",
       "    </tr>\n",
       "    <tr>\n",
       "      <th>248</th>\n",
       "      <td>412886</td>\n",
       "      <td>is ilovemakonnen ovo</td>\n",
       "    </tr>\n",
       "    <tr>\n",
       "      <th>361</th>\n",
       "      <td>736493</td>\n",
       "      <td>what is cubicin antibiotic for</td>\n",
       "    </tr>\n",
       "    <tr>\n",
       "      <th>428</th>\n",
       "      <td>681529</td>\n",
       "      <td>what is a disease that affects the legs</td>\n",
       "    </tr>\n",
       "    <tr>\n",
       "      <th>...</th>\n",
       "      <td>...</td>\n",
       "      <td>...</td>\n",
       "    </tr>\n",
       "    <tr>\n",
       "      <th>366797</th>\n",
       "      <td>604057</td>\n",
       "      <td>what county is cedar michigan in</td>\n",
       "    </tr>\n",
       "    <tr>\n",
       "      <th>366818</th>\n",
       "      <td>553634</td>\n",
       "      <td>what animal eats bamboo shoot</td>\n",
       "    </tr>\n",
       "    <tr>\n",
       "      <th>366892</th>\n",
       "      <td>617635</td>\n",
       "      <td>what degree do you need to work at a zoo</td>\n",
       "    </tr>\n",
       "    <tr>\n",
       "      <th>366971</th>\n",
       "      <td>479282</td>\n",
       "      <td>pre ejaculatory fluid definition</td>\n",
       "    </tr>\n",
       "    <tr>\n",
       "      <th>367011</th>\n",
       "      <td>706678</td>\n",
       "      <td>what is a yowie</td>\n",
       "    </tr>\n",
       "  </tbody>\n",
       "</table>\n",
       "<p>5000 rows × 2 columns</p>\n",
       "</div>"
      ],
      "text/plain": [
       "           qid                                     query\n",
       "224     724592                            what is blains\n",
       "230     754337                            what is hecate\n",
       "248     412886                      is ilovemakonnen ovo\n",
       "361     736493            what is cubicin antibiotic for\n",
       "428     681529   what is a disease that affects the legs\n",
       "...        ...                                       ...\n",
       "366797  604057          what county is cedar michigan in\n",
       "366818  553634             what animal eats bamboo shoot\n",
       "366892  617635  what degree do you need to work at a zoo\n",
       "366971  479282          pre ejaculatory fluid definition\n",
       "367011  706678                           what is a yowie\n",
       "\n",
       "[5000 rows x 2 columns]"
      ]
     },
     "execution_count": 99,
     "metadata": {},
     "output_type": "execute_result"
    }
   ],
   "source": [
    "#qeuries rerank take off group column\n",
    "queries_rr = queries.drop(columns=['group'])\n",
    "queries_rr"
   ]
  },
  {
   "cell_type": "code",
   "execution_count": 100,
   "metadata": {},
   "outputs": [],
   "source": [
    "#type as string\n",
    "queries_rr['qid'] = queries_rr['qid'].map(str)"
   ]
  },
  {
   "cell_type": "code",
   "execution_count": 101,
   "metadata": {},
   "outputs": [
    {
     "data": {
      "text/html": [
       "<div>\n",
       "<style scoped>\n",
       "    .dataframe tbody tr th:only-of-type {\n",
       "        vertical-align: middle;\n",
       "    }\n",
       "\n",
       "    .dataframe tbody tr th {\n",
       "        vertical-align: top;\n",
       "    }\n",
       "\n",
       "    .dataframe thead th {\n",
       "        text-align: right;\n",
       "    }\n",
       "</style>\n",
       "<table border=\"1\" class=\"dataframe\">\n",
       "  <thead>\n",
       "    <tr style=\"text-align: right;\">\n",
       "      <th></th>\n",
       "      <th>qid</th>\n",
       "      <th>docid</th>\n",
       "      <th>docno</th>\n",
       "      <th>rank</th>\n",
       "      <th>score</th>\n",
       "      <th>query</th>\n",
       "    </tr>\n",
       "  </thead>\n",
       "  <tbody>\n",
       "    <tr>\n",
       "      <th>0</th>\n",
       "      <td>724592</td>\n",
       "      <td>1529844</td>\n",
       "      <td>D2322159</td>\n",
       "      <td>0</td>\n",
       "      <td>23.304405</td>\n",
       "      <td>what is blains</td>\n",
       "    </tr>\n",
       "    <tr>\n",
       "      <th>1</th>\n",
       "      <td>724592</td>\n",
       "      <td>590119</td>\n",
       "      <td>D578963</td>\n",
       "      <td>1</td>\n",
       "      <td>23.251101</td>\n",
       "      <td>what is blains</td>\n",
       "    </tr>\n",
       "    <tr>\n",
       "      <th>2</th>\n",
       "      <td>724592</td>\n",
       "      <td>2035581</td>\n",
       "      <td>D1537853</td>\n",
       "      <td>2</td>\n",
       "      <td>23.214697</td>\n",
       "      <td>what is blains</td>\n",
       "    </tr>\n",
       "    <tr>\n",
       "      <th>3</th>\n",
       "      <td>724592</td>\n",
       "      <td>147744</td>\n",
       "      <td>D28555</td>\n",
       "      <td>3</td>\n",
       "      <td>23.118575</td>\n",
       "      <td>what is blains</td>\n",
       "    </tr>\n",
       "    <tr>\n",
       "      <th>4</th>\n",
       "      <td>724592</td>\n",
       "      <td>2579805</td>\n",
       "      <td>D1658203</td>\n",
       "      <td>4</td>\n",
       "      <td>23.031175</td>\n",
       "      <td>what is blains</td>\n",
       "    </tr>\n",
       "    <tr>\n",
       "      <th>...</th>\n",
       "      <td>...</td>\n",
       "      <td>...</td>\n",
       "      <td>...</td>\n",
       "      <td>...</td>\n",
       "      <td>...</td>\n",
       "      <td>...</td>\n",
       "    </tr>\n",
       "    <tr>\n",
       "      <th>4895358</th>\n",
       "      <td>706678</td>\n",
       "      <td>2275250</td>\n",
       "      <td>D1684970</td>\n",
       "      <td>5</td>\n",
       "      <td>35.352771</td>\n",
       "      <td>what is a yowie</td>\n",
       "    </tr>\n",
       "    <tr>\n",
       "      <th>4895359</th>\n",
       "      <td>706678</td>\n",
       "      <td>417698</td>\n",
       "      <td>D1902010</td>\n",
       "      <td>6</td>\n",
       "      <td>34.003087</td>\n",
       "      <td>what is a yowie</td>\n",
       "    </tr>\n",
       "    <tr>\n",
       "      <th>4895360</th>\n",
       "      <td>706678</td>\n",
       "      <td>971673</td>\n",
       "      <td>D576777</td>\n",
       "      <td>7</td>\n",
       "      <td>32.643416</td>\n",
       "      <td>what is a yowie</td>\n",
       "    </tr>\n",
       "    <tr>\n",
       "      <th>4895361</th>\n",
       "      <td>706678</td>\n",
       "      <td>2433946</td>\n",
       "      <td>D2556617</td>\n",
       "      <td>8</td>\n",
       "      <td>32.294233</td>\n",
       "      <td>what is a yowie</td>\n",
       "    </tr>\n",
       "    <tr>\n",
       "      <th>4895362</th>\n",
       "      <td>706678</td>\n",
       "      <td>1759490</td>\n",
       "      <td>D1216608</td>\n",
       "      <td>9</td>\n",
       "      <td>27.746776</td>\n",
       "      <td>what is a yowie</td>\n",
       "    </tr>\n",
       "  </tbody>\n",
       "</table>\n",
       "<p>49921 rows × 6 columns</p>\n",
       "</div>"
      ],
      "text/plain": [
       "            qid    docid     docno  rank      score            query\n",
       "0        724592  1529844  D2322159     0  23.304405   what is blains\n",
       "1        724592   590119   D578963     1  23.251101   what is blains\n",
       "2        724592  2035581  D1537853     2  23.214697   what is blains\n",
       "3        724592   147744    D28555     3  23.118575   what is blains\n",
       "4        724592  2579805  D1658203     4  23.031175   what is blains\n",
       "...         ...      ...       ...   ...        ...              ...\n",
       "4895358  706678  2275250  D1684970     5  35.352771  what is a yowie\n",
       "4895359  706678   417698  D1902010     6  34.003087  what is a yowie\n",
       "4895360  706678   971673   D576777     7  32.643416  what is a yowie\n",
       "4895361  706678  2433946  D2556617     8  32.294233  what is a yowie\n",
       "4895362  706678  1759490  D1216608     9  27.746776  what is a yowie\n",
       "\n",
       "[49921 rows x 6 columns]"
      ]
     },
     "execution_count": 101,
     "metadata": {},
     "output_type": "execute_result"
    }
   ],
   "source": [
    "stage1 = topk_bm25.transform(queries_rr)\n",
    "stage1"
   ]
  },
  {
   "cell_type": "code",
   "execution_count": 198,
   "metadata": {},
   "outputs": [
    {
     "name": "stdout",
     "output_type": "stream",
     "text": [
      "<DOC>\n",
      "<DOCNO>D1555982</DOCNO>\n",
      "<TEXT>\n",
      "https://answers.yahoo.com/question/index?qid=20071007114826AAwCFvR\n",
      "The hot glowing surfaces of stars emit energy in the form of electromagnetic radiation.?\n",
      "Science & Mathematics Physics\n",
      "The hot glowing surfaces of stars emit energy in the form of electromagnetic radiation.?\n",
      "It is a good approximation to assume that the emissivity e is equal to 1 for these surfaces.\n",
      "Find the radius of the star Rigel, the bright blue star in the constellation Orion that radiates energy at a rate of 2.7 x 10^32 W and has a surface temperature of 11,000 K. Assume that the star is spherical.\n",
      "Use Ïƒ =... show more\n",
      "Follow 3 answers\n",
      "Answers\n",
      "Relevance\n",
      "Rating\n",
      "Newest\n",
      "Oldest\n",
      "Best Answer: Stefan-Boltzmann law states that the energy flux by radiation is proportional to the forth power of the temperature: q = Îµ Â· Ïƒ Â· T^4 The total energy flux at a spherical surface of Radius R is Q = qÂ·Ï€Â·RÂ² = ÎµÂ·ÏƒÂ·T^4Â·Ï€Â·RÂ² Hence the radius is R = âˆš ( Q / (ÎµÂ·ÏƒÂ·T^4Â·Ï€) ) = âˆš ( 2.7x10+32 W / (1 Â· 5.67x10-8W/mÂ²K^4 Â· (1100K)^4 Â· Ï€) ) = 3.22x10+13 m\n",
      "Source (s):http://en.wikipedia.org/wiki/Stefan_bolt...schmiso Â· 1 decade ago0 18 Comment\n",
      "Schmiso, you forgot a 4 in your answer.\n",
      "Your link even says it: L = 4pi (R^2)sigma (T^4).\n",
      "Using L, luminosity, as the energy in this problem, you can find the radius R by doing sqrt (L/ (4pisigma (T^4)).\n",
      "Hope this helps everyone.\n",
      "Caroline Â· 4 years ago4 1 Comment (Stefan-Boltzmann law) L = 4pi*R^2*sigma*T^4 Solving for R we get: => R = (1/ (2T^2)) * sqrt (L/ (pi*sigma)) Plugging in your values you should get: => R = (1/ (2 (11,000K)^2)) *sqrt ( (2.7*10^32W)/ (pi * (5.67*10^-8 W/m^2K^4))) R = 1.609 * 10^11 m?\n",
      "Â· 3 years ago0 1 Comment\n",
      "Maybe you would like to learn more about one of these?\n",
      "Want to build a free website?\n",
      "Interested in dating sites?\n",
      "Need a Home Security Safe?\n",
      "How to order contacts online?\n",
      "\n",
      "</TEXT>\n",
      "</DOC>\n",
      "<DOC>\n",
      "<DOCNO>D301595</DOCNO>\n",
      "<TEXT>\n",
      "http://childparenting.about.com/od/physicalemotionalgrowth/tp/Child-Development-Your-Eight-Year-Old-Child.htm\n",
      "Developmental Milestones and Your 8-Year-Old Child\n",
      "School-Age Kids Growth & Development\n",
      "Developmental Milestones and Your 8-Year-Old Child8-Year-Olds Are Expanding Their Worlds\n",
      "By Katherine Lee | Reviewed by Joel Forman, MDUpdated February 10, 2018Share Pin Email\n",
      "Print\n",
      "Eight-year-olds are becoming more confident about themselves and who they are.\n",
      "At age 8, your child will likely have developed some interests and hobbies and will know what he or she likes or doesn't like.\n",
      "At the same time, children this age are learning more about the world at large and are also better able to navigate social relationships with others more independently, with less guidance from parents.\n",
      "At home, 8-year-olds are able to tackle more complicated household chores and take on more responsibility for taking care of themselves, even helping out with younger siblings.\n",
      "In general, according to the CDC, these are some changes you may see in your child:\n",
      "Shows more independence from parents and family.\n",
      "Starts to think about the future.\n",
      "Understands more about his or her place in the world.\n",
      "Pays more attention to friendships and teamwork.\n",
      "Wants to be liked and accepted by friends.1 Behavior and Daily Routines\n",
      "Fabrice Le\n",
      "Rouge/Getty Images\n",
      "The 8-year-old's behavior and daily routines are shaped by the child's taste, interests, and personality.\n",
      "Parents and other significant adults in the child's life should keep in mind the importance of being good role models since this is a time when children are figuring out the world and who they are and how they fit into it.\n",
      "At this age, your child may get involved with more complex social activities and behaviors that help define his or her sense of self.\n",
      "Effective discipline techniques at this age include continuing to praise good behavior, focusing your child's efforts, what they can do and change, rather than innate traits (such as \"you are smart\").\n",
      "Set up and enforce consistent rules.\n",
      "Discipline should be aimed at guiding your child rather than punishing.\n",
      "Follow it with a discussion with your child about what she could do differently next time.\n",
      "Your 8-year-old can do more self-care in regards to hygiene and may begin to want to be part of deciding what the family eats.\n",
      "You might begin to give your child chores to contribute to the maintenance of the household and an allowance to begin to learn to manage money.\n",
      "At this age, your child still needs 10 to 11 hours of sleep per night.2 Physical Development\n",
      "Image Source/Getty Images\n",
      "For 8-year-old children, physical development will continue to be more about refinement of skills, coordination, and muscle control rather than huge changes.\n",
      "They begin to look like \"big kids,\" but puberty is still a couple of years away for most of them.\n",
      "Children with natural athletic potential may show their abilities at this developmental stage as their physical skills become more precise and accurate.\n",
      "In fact, this is often the age at which children decide whether they are athletic or not, and choose to participate in or avoid sports.\n",
      "Either way, it's important for parents to encourage physical activity.\n",
      "Even if your child isn't an athlete she can still enjoy running, swimming, biking, and many other types of non-sports-related physical fun.3 Emotional Development\n",
      "John Howard/Getty Images\n",
      "Eight-year-old emotional development may be growing at a deeper level than in younger years, and an 8-year-old may show more sophisticated and complex emotions and interactions.\n",
      "For instance, an 8-year-old may mask true thoughts or emotions to spare someone else's feelings or work through a problem without an adult's close supervision or intervention.\n",
      "This is the time when your child may be developing a more sophisticated sense of himself in the world.\n",
      "Her interests, talents, friends, and relationship with family all help her to establish a clear self-identity.\n",
      "It's also the beginning of desiring privacy and flip-flopping between self-confidence and self-doubt.\n",
      "It can be a good time to help your child develop patience and empathy for others.4 Cognitive Development\n",
      "Tom Merton/Getty Images\n",
      "Eight-year-old children are at a stage of intellectual development where they will be able to pay attention for longer periods of time.\n",
      "You can expect your child to be able to concentrate on an activity for up to an hour or more.\n",
      "Eight-year-olds will also be able to think more critically and express opinions using more complex and sophisticated vocabulary and language skills.5 Social Development\n",
      "Christopher Futcher/Getty Images\n",
      "This is the phase of social development where many children love being a part of sports teams and other social groups.\n",
      "In general, 8-year-old children enjoy school and will count on and value relationships with a few close friends and classmates.\n",
      "Parents of 8-year-olds should be on the lookout for problems such as school refusal, as this may indicate learning difficulties or being bullied at school.\n",
      "It is also a good age at which to discuss respecting others.6 What If My Child Is Different?\n",
      "Developmental milestones provide professionals and parents with a tool for comparing children to a norm.\n",
      "No child fits the ideal norm perfectly, and each child will have his or her personal quirks, strengths, challenges, and preferences.\n",
      "With that said, however, if you feel your child is far behind or ahead of the norm, it's well worth discussing the issue with your pediatrician and your child's teacher.\n",
      "If there are issues or opportunities, now is the time to learn about and address them.\n",
      "A Word From Verywell\n",
      "Your 8-year-old is in the full bloom of childhood.\n",
      "Enjoy activities and explore the world together.\n",
      "It's a great time to spark new interests in your child and watch her grow in every way.\n",
      "Sources:\n",
      "Anthony, Michelle.\n",
      "The emotional lives of 8-10-year-olds.\n",
      "Scholastic Publishing.\n",
      "Chaplin TM, Aldao A.\n",
      "Gender differences in emotion expression in children: A meta-analytic review Psychological Bulletin.\n",
      "2013;139 (4):735-765. doi:10.1037/a0030737.\n",
      "Middle childhood.\n",
      "CDC.\n",
      "\n",
      "</TEXT>\n",
      "</DOC>\n",
      "<DOC>\n",
      "<DOCNO>D1359209</DOCNO>\n",
      "<TEXT>\n",
      "http://visihow.com/Check_for_Lice_Nits\n",
      "Check for Lice Nits\n",
      "Check for Lice Nits\n",
      "Edited by Mian Sheilette Ong, Eng, Lynn, Nuance and 1 other8 Parts:\n",
      "Everything About Head Lice, Eggs, and Nits How to Check for Head Lice, Nits, and Eggs Symptoms of Pubic Lice Symptoms of Body Lice\n",
      "Treatment for Body Lice Alternative Method For Removing Lice Without Harsh Chemicals Tips, Tricks and Warnings Comments\n",
      "Personal hygiene is a priority for everyone.\n",
      "With excellent personal hygiene, you will be able to carry yourself well anywhere at any given time.\n",
      "It will also show that you take good care of yourself.\n",
      "Was this helpful?\n",
      "Yes| No| I need help\n",
      "Ad\n",
      "Everything About Head Lice, Eggs, and Nits\n",
      "Even if you have excellent hygiene, ectoparasites such as lice, can strike.\n",
      "Most often, your child brings it home from school.\n",
      "If you become afflicted with such parasites, you must act quickly and make sure you are thorough in your efforts to get rid of them.\n",
      "Was this helpful?\n",
      "Yes| No| I need help\n",
      "Lice are wingless and very tiny.\n",
      "They infest your scalp and other body areas such as the pubic and armpit regions.\n",
      "Adult lice lay eggs.\n",
      "When the eggs hatch, they leave shells behind.\n",
      "These shells are called nits.\n",
      "When you see these nits on your scalp or on any area of the body, it is a neon sign of a lice infestation.\n",
      "You should know how to check for lice nits if you want to have a parasite-free body and scalp.\n",
      "It will definitely make you more confident when mingling with other people.\n",
      "Yes, it may be tedious and laborious, but this will help ensure a healthier lifestyle.\n",
      "Was this helpful?\n",
      "Yes| No| I need help\n",
      "A Basic Description of Lice\n",
      "Recognize lice.\n",
      "You should definitely know how to recognize lice.\n",
      "These are wingless, tiny arthropods (six-legged invertebrates) that reside on your scalp.\n",
      "Lice are ectoparasites that rely on your blood to survive.\n",
      "They are about the size of a sesame seed.\n",
      "Lice are like mosquitoes, but instead of flying, they do best with crawling.\n",
      "You can get lice by being in direct contact with someone infested with head lice.\n",
      "Another way would be to share items such as headbands, clips, combs, or hats.\n",
      "Was this helpful?\n",
      "Yes| No| I need help\n",
      "Eggs\n",
      "The female head lice lay eggs.\n",
      "These eggs are almost invisible to the naked eye because they're tiny and they blend into the color of your hair.\n",
      "Female head lice usually lay their eggs on the hair shafts near the hair roots.\n",
      "They attach with an adhesive that's naturally waterproof.\n",
      "That is why they cannot be blown or washed away.\n",
      "Was this helpful?\n",
      "Yes| No| I need help\n",
      "By the time the head lice eggs hatch, they leave empty eggshells behind.\n",
      "These are called nits.\n",
      "You could confuse nits with hairspray flakes, sand, or dandruff.\n",
      "Like the lice eggs, nits still have their adhesives so they cannot be removed that easily.\n",
      "Nits differ in coloration (brownish yellow, white).\n",
      "As the hair grows, the attached nits are found away from the roots.\n",
      "Since nits are indications of lice infestation, many schools do not admit children who have them.\n",
      "It is important for parents to check their children's heads for nits and eggs on a regular basis so that lice treatment could be performed immediately.\n",
      "Removing nits and lice eggs takes patience and a fine-toothed comb.\n",
      "Was this helpful?\n",
      "Yes| No| I need help\n",
      "Life Cycle of Head Lice\n",
      "Head lice have three phases in their life cycle (40-50 days):1 Egg phase.\n",
      "The mature female lays eggs that are coated with an adhesive.\n",
      "This adhesive is effective for attaching the eggs to the hair shafts near the hair roots.\n",
      "The newly hatched head lice will hatch after 10 days.\n",
      "Was this step helpful?\n",
      "Yes| No| I need help2 Nymph phase.\n",
      "A nymph comes out of the head lice egg.\n",
      "They are not that easy to see.\n",
      "Nymphs cannot reproduce yet because they don't have a fully developed reproductive system yet.\n",
      "It takes 12 days for lice nymphs to mature.\n",
      "Was this step helpful?\n",
      "Yes| No| I need help3 Adult phase.\n",
      "This is the phase where the nymphs are finally mature enough to produce and lay eggs.\n",
      "Once they are sexually mature, they can lay four to 10 eggs every day.\n",
      "The life of adult head lice lasts about 28 days.\n",
      "Don't panic, but about 280 lice eggs could be laid by one mature female before she dies.\n",
      "Was this step helpful?\n",
      "Yes| No| I need help\n",
      "How to Check for Head Lice, Nits, and Eggs\n",
      "You can tell if there is a head lice infestation when the suspected host itches all the time.\n",
      "Oftentimes, children scratch their heads, nape, or behind the ears.\n",
      "Red bumps or small wounds might also be present in these areas.\n",
      "Once you notice itching or bumps, immediately check your child's head.\n",
      "There could already be a head lice outbreak in their school.\n",
      "You can check for head lice, nits, and eggs by using the following steps:\n",
      "Was this helpful?\n",
      "Yes| No| I need help\n",
      "First Check For Lice1 Choose a relaxing place.\n",
      "Select a comfortable area for head lice checking.\n",
      "You should position your child seated in front of you.\n",
      "This will allow you to check all over your child's head conveniently.\n"
     ]
    }
   ],
   "source": [
    "with gzip.open(filename, 'rt') as file:\n",
    "    for line_num, line in enumerate(file, start=1):\n",
    "        print(line.strip())\n",
    "        if line_num == 200:\n",
    "            break"
   ]
  },
  {
   "attachments": {},
   "cell_type": "markdown",
   "metadata": {},
   "source": [
    "some of the following function has been created with the help of Emile Pichard"
   ]
  },
  {
   "cell_type": "code",
   "execution_count": 8,
   "metadata": {},
   "outputs": [],
   "source": [
    "data = []\n",
    "\n",
    "with gzip.open(filename, 'rt', encoding='utf8') as file:\n",
    "    docno = None\n",
    "    text_lines = []\n",
    "    count = 0\n",
    "\n",
    "    for line in file:\n",
    "        line = line.strip()\n",
    "\n",
    "        if line.startswith(\"<DOCNO>\"):\n",
    "            docno = line.replace(\"<DOCNO>\", \"\").replace(\"</DOCNO>\", \"\").strip()\n",
    "        elif line.startswith(\"<TEXT>\"):\n",
    "            text_lines = []\n",
    "        elif line.startswith(\"</TEXT>\"):\n",
    "            text = ' '.join(text_lines).strip()\n",
    "            data.append({'docno': docno, 'text': text})\n",
    "            docno = None\n",
    "            text_lines = []\n",
    "            count += 1\n",
    "        else:\n",
    "            text_lines.append(line)\n",
    "\n",
    "        if count == 300000:\n",
    "            break\n",
    "\n",
    "df = pd.DataFrame(data)\n",
    "df.to_parquet('output.parquet')\n"
   ]
  },
  {
   "cell_type": "code",
   "execution_count": 207,
   "metadata": {},
   "outputs": [
    {
     "name": "stdout",
     "output_type": "stream",
     "text": [
      "      docno                                               text\n",
      "0  D1555982  https://answers.yahoo.com/question/index?qid=2...\n",
      "1   D301595  http://childparenting.about.com/od/physicalemo...\n",
      "2  D1359209  http://visihow.com/Check_for_Lice_Nits Check f...\n",
      "3  D2147834  http://www.nytimes.com/2010/01/05/business/glo...\n",
      "4  D1568809  http://www.realtor.com/realestateandhomes-sear...\n",
      "5  D3233725  http://www.akc.org/dog-breeds/dogo-argentino/c...\n",
      "6  D1150618  https://www.usnetting.com/ Netting the Highest...\n",
      "7  D1885729  http://www.ehow.com/how_8327605_kill-weeds-kil...\n",
      "8  D1311240  http://vanrcook.tripod.com/presidentroosevelt....\n",
      "9  D3048094  https://answers.yahoo.com/question/index?qid=2...\n"
     ]
    }
   ],
   "source": [
    "data = []\n",
    "\n",
    "with gzip.open(filename, 'rt', encoding='utf8') as file:\n",
    "    docno = None\n",
    "    text_lines = []\n",
    "    count = 0\n",
    "\n",
    "    for line in file:\n",
    "        line = line.strip()\n",
    "\n",
    "        if line.startswith(\"<DOCNO>\"):\n",
    "            docno = line.replace(\"<DOCNO>\", \"\").replace(\"</DOCNO>\", \"\").strip()\n",
    "        elif line.startswith(\"<TEXT>\"):\n",
    "            text_lines = []\n",
    "        elif line.startswith(\"</TEXT>\"):\n",
    "            text = ' '.join(text_lines).strip()\n",
    "            data.append({'docno': docno, 'text': text})\n",
    "            docno = None\n",
    "            text_lines = []\n",
    "            count += 1\n",
    "        else:\n",
    "            text_lines.append(line)\n",
    "\n",
    "        if count == 10:\n",
    "            break\n",
    "\n",
    "df = pd.DataFrame(data)\n",
    "print(df)\n"
   ]
  },
  {
   "cell_type": "code",
   "execution_count": 68,
   "metadata": {},
   "outputs": [],
   "source": [
    "def generate_docs(filename):\n",
    "    with gzip.open(filename, 'rt', encoding='utf8') as file:\n",
    "        docno = None\n",
    "        text_lines = []\n",
    "        count = 0\n",
    "\n",
    "\n",
    "        for line in file:\n",
    "            line = line.strip()\n",
    "\n",
    "            if line.startswith(\"<DOCNO>\"):\n",
    "                docno = line.replace(\"<DOCNO>\", \"\").replace(\"</DOCNO>\", \"\").strip()\n",
    "            elif line.startswith(\"<TEXT>\"):\n",
    "                text_lines = []\n",
    "            elif line.startswith(\"</TEXT>\"):\n",
    "                text = ' '.join(text_lines).strip()\n",
    "                #yield {'docno': docno, 'text': text}\n",
    "            else:\n",
    "                text_lines.append(line)\n",
    "                docno = None\n",
    "                text_lines = []\n",
    "                count += 1\n",
    "                text = ' '.join(text_lines).strip()\n",
    "            return text\n",
    "            if count == 1000:\n",
    "                break"
   ]
  },
  {
   "cell_type": "code",
   "execution_count": null,
   "metadata": {},
   "outputs": [],
   "source": [
    "def generate_docs(filename):\n",
    "    df_doc = pd.DataFrame(columns = ['docid','text'])\n",
    "    with pt.io.autoopen(data.get_corpus()[0], 'rt') as corpusfile:\n",
    "        docno = None\n",
    "        text_lines = []\n",
    "        i = 0\n",
    "        is_docid = False\n",
    "        for line in corpusfile:\n",
    "            line = line.strip()\n",
    "\n",
    "            if line.startswith(\"<DOCNO>\"):\n",
    "                docno = line.replace(\"<DOCNO>\", \"\").replace(\"</DOCNO>\", \"\").strip()\n",
    "            elif line.startswith(\"<TEXT>\"):\n",
    "                text_lines = []\n",
    "            elif line.startswith(\"</TEXT>\"):\n",
    "                text = ' '.join(text_lines).strip()\n",
    "                df_doc = pd.concat([df_doc, pd.DataFrame([{'docid' : docno, 'text' : text}])], ignore_index=True)\n",
    "                # df_doc = df_doc.append({'docid' : docno, 'text' : text}, ignore_index = True)\n",
    "                docno = None\n",
    "                text_lines = []\n",
    "                i += 1\n",
    "                print(i)\n",
    "            else:\n",
    "                text_lines.append(line)\n",
    "    return df_doc\n",
    "            \n",
    "\n",
    "text_lines = generate_docs(filename)"
   ]
  },
  {
   "cell_type": "code",
   "execution_count": null,
   "metadata": {},
   "outputs": [],
   "source": [
    "def generate_docs(filename):\n",
    "    df_doc = pd.DataFrame(columns = ['docid','text'])\n",
    "    with gzip.open(filename, 'rt', encoding='utf8') as file:\n",
    "        docno = None\n",
    "        text_lines = []\n",
    "        i = 0\n",
    "        for line in file:\n",
    "            line = line.strip()\n",
    "\n",
    "            if line.startswith(\"<DOCNO>\"):\n",
    "                docno = line.replace(\"<DOCNO>\", \"\").replace(\"</DOCNO>\", \"\").strip()\n",
    "            elif line.startswith(\"<TEXT>\"):\n",
    "                text_lines = []\n",
    "            elif line.startswith(\"</TEXT>\"):\n",
    "                text = ' '.join(text_lines).strip()\n",
    "                df_doc = pd.concat([df_doc, pd.DataFrame([{'docid' : docno, 'text' : text}])], ignore_index=True)\n",
    "                # df_doc = df_doc.append({'docid' : docno, 'text' : text}, ignore_index = True)\n",
    "                docno = None\n",
    "                text_lines = []\n",
    "                i += 1\n",
    "                print(i)\n",
    "            else:\n",
    "                text_lines.append(line)\n",
    "            \n",
    "\n",
    "text_lines = generate_docs(filename)"
   ]
  },
  {
   "attachments": {},
   "cell_type": "markdown",
   "metadata": {},
   "source": [
    "Worst queries"
   ]
  },
  {
   "cell_type": "code",
   "execution_count": 6,
   "metadata": {},
   "outputs": [],
   "source": [
    "queries_results = []\n",
    "\n",
    "# Loop over each row of the queries dataset\n",
    "for _, query_row in queries_test.iterrows():\n",
    "    query_id = query_row[\"qid\"]\n",
    "    query_text = query_row[\"query\"]\n",
    "    \n",
    "    # Create a single-row DataFrame for the current query\n",
    "    query_df = pd.DataFrame({\"qid\": [query_id], \"query\": [query_text]})\n",
    "    \n",
    "    # Perform retrieval for the current query using pt.Experiment\n",
    "    results = pt.Experiment(\n",
    "        [bm25_stem_stop_best], query_df, qrels, eval_metrics=[\"recip_rank\"]\n",
    "    )\n",
    "    \n",
    "    # Retrieve the MRR score for the current query\n",
    "    mrr_score = results[\"recip_rank\"].iloc[0]\n",
    "    \n",
    "    # Store the query ID and MRR score in the results list\n",
    "    queries_results.append({\"qid\": query_id, \"mrr\": mrr_score})"
   ]
  },
  {
   "cell_type": "code",
   "execution_count": 7,
   "metadata": {},
   "outputs": [],
   "source": [
    "query_results_df = pd.DataFrame(queries_results)"
   ]
  },
  {
   "cell_type": "code",
   "execution_count": 8,
   "metadata": {},
   "outputs": [
    {
     "name": "stdout",
     "output_type": "stream",
     "text": [
      "        qid       mrr\n",
      "49    43682  0.000000\n",
      "33   457883  0.000000\n",
      "23   956312  0.000000\n",
      "34   489236  0.000000\n",
      "36   985098  0.000000\n",
      "9    467331  0.000000\n",
      "30  1147005  0.000000\n",
      "44   316708  0.003663\n",
      "4    691200  0.004545\n",
      "5    324566  0.004762\n",
      "        qid  mrr\n",
      "0    919834  1.0\n",
      "6    855622  1.0\n",
      "48   502956  1.0\n",
      "47   380040  1.0\n",
      "43   236699  1.0\n",
      "31   905777  1.0\n",
      "25  1148384  1.0\n",
      "40   799503  0.5\n",
      "12  1138953  0.5\n",
      "41   105857  0.5\n"
     ]
    }
   ],
   "source": [
    "# Sort the queries based on their MRR scores in ascending order\n",
    "worst_queries = query_results_df.sort_values(\"mrr\", ascending=True).head(10)\n",
    "best_queries = query_results_df.sort_values(\"mrr\", ascending=False).head(10)\n",
    "\n",
    "# Print the worst queries and their respective MRR scores\n",
    "print(worst_queries)\n",
    "print(best_queries)"
   ]
  },
  {
   "cell_type": "code",
   "execution_count": 12,
   "metadata": {},
   "outputs": [
    {
     "name": "stdout",
     "output_type": "stream",
     "text": [
      "            qid                                               text\n",
      "267567    43682  average salary warehouse supervisor pay in foo...\n",
      "84154    457883                       most famous dog breed in usa\n",
      "224263   956312                when to worry about toddlers speech\n",
      "24604    489236                     rights based theory definition\n",
      "211236   985098                             where is isync located\n",
      "55666    467331                             nutrients food sources\n",
      "84006   1147005                      what not to eat with diabetes\n",
      "319683   316708      how much does it cost to replace ceiling leak\n",
      "198507   691200                              what is a misdemeanor\n",
      "284864   324566                how much money do lyft drivers make\n"
     ]
    }
   ],
   "source": [
    "worst_query_results = pd.DataFrame()\n",
    "\n",
    "for i in range(len(worst_queries)):\n",
    "    qid = worst_queries.iloc[i]['qid']\n",
    "    filtered_queries = queries_we[queries_we['qid'] == str(qid)]\n",
    "    worst_query_results = pd.concat([worst_query_results, filtered_queries])\n",
    "\n",
    "print(worst_query_results)\n"
   ]
  },
  {
   "cell_type": "code",
   "execution_count": 92,
   "metadata": {},
   "outputs": [
    {
     "data": {
      "text/plain": [
       "'average salary warehouse supervisor pay in food industry'"
      ]
     },
     "execution_count": 92,
     "metadata": {},
     "output_type": "execute_result"
    }
   ],
   "source": [
    "#print text first worst query\n",
    "worst_query_results.iloc[0]['text']"
   ]
  },
  {
   "cell_type": "code",
   "execution_count": 13,
   "metadata": {},
   "outputs": [
    {
     "name": "stdout",
     "output_type": "stream",
     "text": [
      "            qid                                               text\n",
      "200339   919834                             what was the comintern\n",
      "196719   855622                         what is thiogamma used for\n",
      "289464   502956                                 state fair weather\n",
      "76061    380040     how to sharpen drill bits with a bench grinder\n",
      "116128   236699                   how is frontier airlines service\n",
      "238366   905777                      what time zone is nome alaska\n",
      "77992   1148384  d what neurotransmitter is involved in transmi...\n",
      "104932   799503     what is standard of work standard work process\n",
      "121752  1138953             who founded the royal academy of music\n",
      "157443   105857                    cost of nyc subway monthly pass\n"
     ]
    }
   ],
   "source": [
    "#retrieve text of best queries\n",
    "best_query_results = pd.DataFrame()\n",
    "\n",
    "for i in range(len(best_queries)):\n",
    "    qid = best_queries.iloc[i]['qid']\n",
    "    filtered_queries = queries_we[queries_we['qid'] == str(qid)]\n",
    "    best_query_results = pd.concat([best_query_results, filtered_queries])\n",
    "\n",
    "print(best_query_results)"
   ]
  },
  {
   "cell_type": "code",
   "execution_count": 14,
   "metadata": {},
   "outputs": [
    {
     "data": {
      "text/plain": [
       "'d what neurotransmitter is involved in transmitting pain sensations'"
      ]
     },
     "execution_count": 14,
     "metadata": {},
     "output_type": "execute_result"
    }
   ],
   "source": [
    "best_query_results.iloc[6]['text']"
   ]
  },
  {
   "cell_type": "code",
   "execution_count": 91,
   "metadata": {},
   "outputs": [
    {
     "name": "stdout",
     "output_type": "stream",
     "text": [
      "           qid     docno  label\n",
      "110624  380040  D1248405      1\n"
     ]
    },
    {
     "data": {
      "text/html": [
       "<div>\n",
       "<style scoped>\n",
       "    .dataframe tbody tr th:only-of-type {\n",
       "        vertical-align: middle;\n",
       "    }\n",
       "\n",
       "    .dataframe tbody tr th {\n",
       "        vertical-align: top;\n",
       "    }\n",
       "\n",
       "    .dataframe thead th {\n",
       "        text-align: right;\n",
       "    }\n",
       "</style>\n",
       "<table border=\"1\" class=\"dataframe\">\n",
       "  <thead>\n",
       "    <tr style=\"text-align: right;\">\n",
       "      <th></th>\n",
       "      <th>qid</th>\n",
       "      <th>docno</th>\n",
       "      <th>label</th>\n",
       "    </tr>\n",
       "  </thead>\n",
       "  <tbody>\n",
       "    <tr>\n",
       "      <th>314474</th>\n",
       "      <td>985098</td>\n",
       "      <td>D2292522</td>\n",
       "      <td>1</td>\n",
       "    </tr>\n",
       "  </tbody>\n",
       "</table>\n",
       "</div>"
      ],
      "text/plain": [
       "           qid     docno  label\n",
       "314474  985098  D2292522      1"
      ]
     },
     "execution_count": 91,
     "metadata": {},
     "output_type": "execute_result"
    }
   ],
   "source": [
    "print(qrels[qrels['qid'] == '380040'])\n",
    "qrels[qrels['qid'] == '985098']"
   ]
  }
 ],
 "metadata": {
  "kernelspec": {
   "display_name": "local-venv",
   "language": "python",
   "name": "local-venv"
  },
  "language_info": {
   "codemirror_mode": {
    "name": "ipython",
    "version": 3
   },
   "file_extension": ".py",
   "mimetype": "text/x-python",
   "name": "python",
   "nbconvert_exporter": "python",
   "pygments_lexer": "ipython3",
   "version": "3.10.10"
  },
  "orig_nbformat": 4
 },
 "nbformat": 4,
 "nbformat_minor": 2
}
